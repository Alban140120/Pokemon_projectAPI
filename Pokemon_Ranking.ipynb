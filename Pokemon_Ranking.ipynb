{
 "cells": [
  {
   "cell_type": "markdown",
   "metadata": {
    "application/vnd.databricks.v1+cell": {
     "cellMetadata": {},
     "inputWidgets": {},
     "nuid": "5b2767ff-7850-4441-89a3-01529f12f161",
     "showTitle": false,
     "title": ""
    }
   },
   "source": [
    "Import des packages"
   ]
  },
  {
   "cell_type": "code",
   "execution_count": 0,
   "metadata": {
    "application/vnd.databricks.v1+cell": {
     "cellMetadata": {},
     "inputWidgets": {},
     "nuid": "23e53525-b6d1-441e-93d5-f2168ee9be06",
     "showTitle": false,
     "title": ""
    }
   },
   "outputs": [],
   "source": [
    "import requests\n",
    "import pandas as pd\n",
    "import time\n",
    "import matplotlib.pyplot as plt\n",
    "from pyspark.sql.functions import col\n",
    "from pyspark.sql.types import DoubleType\n",
    "from sklearn.cluster import KMeans\n",
    "import pandas as pd\n",
    "import matplotlib.pyplot as plt\n",
    "from sklearn.decomposition import PCA\n",
    "import seaborn as sns"
   ]
  },
  {
   "cell_type": "code",
   "execution_count": 0,
   "metadata": {
    "application/vnd.databricks.v1+cell": {
     "cellMetadata": {
      "byteLimit": 2048000,
      "rowLimit": 10000
     },
     "inputWidgets": {},
     "nuid": "29b6da82-aaba-40f8-a8cd-a203a38daf30",
     "showTitle": false,
     "title": ""
    }
   },
   "outputs": [
    {
     "output_type": "execute_result",
     "data": {
      "text/html": [
       "<div>\n",
       "<style scoped>\n",
       "    .dataframe tbody tr th:only-of-type {\n",
       "        vertical-align: middle;\n",
       "    }\n",
       "\n",
       "    .dataframe tbody tr th {\n",
       "        vertical-align: top;\n",
       "    }\n",
       "\n",
       "    .dataframe thead th {\n",
       "        text-align: right;\n",
       "    }\n",
       "</style>\n",
       "<table border=\"1\" class=\"dataframe\">\n",
       "  <thead>\n",
       "    <tr style=\"text-align: right;\">\n",
       "      <th></th>\n",
       "      <th>id</th>\n",
       "      <th>name</th>\n",
       "      <th>height</th>\n",
       "      <th>weight</th>\n",
       "      <th>hp</th>\n",
       "      <th>attack</th>\n",
       "      <th>defense</th>\n",
       "      <th>special-attack</th>\n",
       "      <th>special-defense</th>\n",
       "      <th>speed</th>\n",
       "      <th>types</th>\n",
       "    </tr>\n",
       "  </thead>\n",
       "  <tbody>\n",
       "    <tr>\n",
       "      <th>0</th>\n",
       "      <td>1</td>\n",
       "      <td>bulbasaur</td>\n",
       "      <td>7</td>\n",
       "      <td>69</td>\n",
       "      <td>45</td>\n",
       "      <td>49</td>\n",
       "      <td>49</td>\n",
       "      <td>65</td>\n",
       "      <td>65</td>\n",
       "      <td>45</td>\n",
       "      <td>[grass, poison]</td>\n",
       "    </tr>\n",
       "    <tr>\n",
       "      <th>1</th>\n",
       "      <td>2</td>\n",
       "      <td>ivysaur</td>\n",
       "      <td>10</td>\n",
       "      <td>130</td>\n",
       "      <td>60</td>\n",
       "      <td>62</td>\n",
       "      <td>63</td>\n",
       "      <td>80</td>\n",
       "      <td>80</td>\n",
       "      <td>60</td>\n",
       "      <td>[grass, poison]</td>\n",
       "    </tr>\n",
       "    <tr>\n",
       "      <th>2</th>\n",
       "      <td>3</td>\n",
       "      <td>venusaur</td>\n",
       "      <td>20</td>\n",
       "      <td>1000</td>\n",
       "      <td>80</td>\n",
       "      <td>82</td>\n",
       "      <td>83</td>\n",
       "      <td>100</td>\n",
       "      <td>100</td>\n",
       "      <td>80</td>\n",
       "      <td>[grass, poison]</td>\n",
       "    </tr>\n",
       "    <tr>\n",
       "      <th>3</th>\n",
       "      <td>4</td>\n",
       "      <td>charmander</td>\n",
       "      <td>6</td>\n",
       "      <td>85</td>\n",
       "      <td>39</td>\n",
       "      <td>52</td>\n",
       "      <td>43</td>\n",
       "      <td>60</td>\n",
       "      <td>50</td>\n",
       "      <td>65</td>\n",
       "      <td>[fire]</td>\n",
       "    </tr>\n",
       "    <tr>\n",
       "      <th>4</th>\n",
       "      <td>5</td>\n",
       "      <td>charmeleon</td>\n",
       "      <td>11</td>\n",
       "      <td>190</td>\n",
       "      <td>58</td>\n",
       "      <td>64</td>\n",
       "      <td>58</td>\n",
       "      <td>80</td>\n",
       "      <td>65</td>\n",
       "      <td>80</td>\n",
       "      <td>[fire]</td>\n",
       "    </tr>\n",
       "  </tbody>\n",
       "</table>\n",
       "</div>"
      ],
      "text/plain": [
       "   id        name  height  ...  special-defense  speed            types\n",
       "0   1   bulbasaur       7  ...               65     45  [grass, poison]\n",
       "1   2     ivysaur      10  ...               80     60  [grass, poison]\n",
       "2   3    venusaur      20  ...              100     80  [grass, poison]\n",
       "3   4  charmander       6  ...               50     65           [fire]\n",
       "4   5  charmeleon      11  ...               65     80           [fire]\n",
       "\n",
       "[5 rows x 11 columns]"
      ]
     },
     "execution_count": 2,
     "metadata": {},
     "output_type": "execute_result"
    }
   ],
   "source": [
    "# Fonction pour récupérer les données d'un Pokémon par son ID\n",
    "def get_pokemon_data(pokemon_id):\n",
    "    url = f\"https://pokeapi.co/api/v2/pokemon/{pokemon_id}/\"\n",
    "    response = requests.get(url)\n",
    "    if response.status_code == 200:\n",
    "        return response.json()\n",
    "    else:\n",
    "        print(f\"Erreur: Impossible de récupérer les données pour l'ID {pokemon_id}\")\n",
    "        return None\n",
    "\n",
    "# Récupérer les données pour les Pokémon\n",
    "pokemon_list = []\n",
    "for pokemon_id in range(1, 1021):\n",
    "    data = get_pokemon_data(pokemon_id)\n",
    "    if data:\n",
    "        name = data['name']\n",
    "        height = data['height']\n",
    "        weight = data['weight']\n",
    "        stats = {stat['stat']['name']: stat['base_stat'] for stat in data['stats']}\n",
    "        types = [t['type']['name'] for t in data['types']]\n",
    "        pokemon_list.append({\n",
    "            'id': pokemon_id,\n",
    "            'name': name,\n",
    "            'height': height,\n",
    "            'weight': weight,\n",
    "            **stats,\n",
    "            'types': types\n",
    "        })\n",
    "    \n",
    "    # Ajouter une pause pour éviter de surcharger l'API\n",
    "    if pokemon_id % 100 == 0:  # Pause après chaque 100 Pokémon\n",
    "        time.sleep(1)\n",
    "\n",
    "# Créer un DataFrame avec les données récupérées\n",
    "df_pokemon = pd.DataFrame(pokemon_list)\n",
    "df_pokemon.head()"
   ]
  },
  {
   "cell_type": "code",
   "execution_count": 0,
   "metadata": {
    "application/vnd.databricks.v1+cell": {
     "cellMetadata": {
      "byteLimit": 2048000,
      "rowLimit": 10000
     },
     "inputWidgets": {},
     "nuid": "1557ed5b-5c76-47a6-98b4-dd172902f09f",
     "showTitle": false,
     "title": ""
    }
   },
   "outputs": [
    {
     "output_type": "execute_result",
     "data": {
      "text/plain": [
       "id                 1020\n",
       "name               1020\n",
       "height             1020\n",
       "weight             1020\n",
       "hp                 1020\n",
       "attack             1020\n",
       "defense            1020\n",
       "special-attack     1020\n",
       "special-defense    1020\n",
       "speed              1020\n",
       "types              1020\n",
       "dtype: int64"
      ]
     },
     "execution_count": 3,
     "metadata": {},
     "output_type": "execute_result"
    }
   ],
   "source": [
    "df_pokemon.count()"
   ]
  },
  {
   "cell_type": "code",
   "execution_count": 0,
   "metadata": {
    "application/vnd.databricks.v1+cell": {
     "cellMetadata": {
      "byteLimit": 2048000,
      "rowLimit": 10000
     },
     "inputWidgets": {},
     "nuid": "6c23a72e-24f3-4e10-bff4-3c14e3000227",
     "showTitle": false,
     "title": ""
    }
   },
   "outputs": [],
   "source": [
    "# Convertir le DataFrame Pandas en Spark DataFrame\n",
    "df_spark = spark.createDataFrame(df_pokemon)\n",
    "\n",
    "# Enregistrer les données brutes dans Delta Lake\n",
    "df_spark.write.format(\"delta\").mode(\"overwrite\").save(\"/mnt/datalake/pokemon_raw\")"
   ]
  },
  {
   "cell_type": "code",
   "execution_count": 0,
   "metadata": {
    "application/vnd.databricks.v1+cell": {
     "cellMetadata": {
      "byteLimit": 2048000,
      "rowLimit": 10000
     },
     "inputWidgets": {},
     "nuid": "ee0313be-8aaa-4813-9116-47e73ced5e30",
     "showTitle": false,
     "title": ""
    }
   },
   "outputs": [
    {
     "output_type": "stream",
     "name": "stdout",
     "output_type": "stream",
     "text": [
      "+---+----------+------+------+---+------+-------+--------------+---------------+-----+---------------+\n| id|      name|height|weight| hp|attack|defense|special-attack|special-defense|speed|          types|\n+---+----------+------+------+---+------+-------+--------------+---------------+-----+---------------+\n|  1| bulbasaur|     7|    69| 45|    49|     49|            65|             65|   45|[grass, poison]|\n|  2|   ivysaur|    10|   130| 60|    62|     63|            80|             80|   60|[grass, poison]|\n|  3|  venusaur|    20|  1000| 80|    82|     83|           100|            100|   80|[grass, poison]|\n|  4|charmander|     6|    85| 39|    52|     43|            60|             50|   65|         [fire]|\n|  5|charmeleon|    11|   190| 58|    64|     58|            80|             65|   80|         [fire]|\n+---+----------+------+------+---+------+-------+--------------+---------------+-----+---------------+\nonly showing top 5 rows\n\n"
     ]
    }
   ],
   "source": [
    "# Lire les données brutes depuis Delta Lake\n",
    "df_raw = spark.read.format(\"delta\").load(\"/mnt/datalake/pokemon_raw\")\n",
    "display(df_raw.show(5))"
   ]
  },
  {
   "cell_type": "code",
   "execution_count": 0,
   "metadata": {
    "application/vnd.databricks.v1+cell": {
     "cellMetadata": {
      "byteLimit": 2048000,
      "rowLimit": 10000
     },
     "inputWidgets": {},
     "nuid": "d81f1351-4ba4-471f-919d-f6bbb2adfd28",
     "showTitle": false,
     "title": ""
    }
   },
   "outputs": [
    {
     "output_type": "stream",
     "name": "stdout",
     "output_type": "stream",
     "text": [
      "id                 0\nname               0\nheight             0\nweight             0\nhp                 0\nattack             0\ndefense            0\nspecial-attack     0\nspecial-defense    0\nspeed              0\ntypes              0\ndtype: int64\n"
     ]
    }
   ],
   "source": [
    "# Convertir Spark DataFrame en Pandas pour certaines opérations\n",
    "df_cleaned = df_raw.toPandas()\n",
    "\n",
    "# Vérifier les valeurs manquantes\n",
    "print(df_cleaned.isnull().sum())"
   ]
  },
  {
   "cell_type": "code",
   "execution_count": 0,
   "metadata": {
    "application/vnd.databricks.v1+cell": {
     "cellMetadata": {
      "byteLimit": 2048000,
      "rowLimit": 10000
     },
     "inputWidgets": {},
     "nuid": "6cb53299-1b72-4416-b50e-4e25c2cfd05d",
     "showTitle": false,
     "title": ""
    }
   },
   "outputs": [],
   "source": [
    "# Ajouter une colonne de puissance totale en sommant les statistiques\n",
    "stat_columns = ['hp', 'attack', 'defense', 'special-attack', 'special-defense', 'speed']\n",
    "df_cleaned['total_power'] = df_cleaned[stat_columns].sum(axis=1)"
   ]
  },
  {
   "cell_type": "code",
   "execution_count": 0,
   "metadata": {
    "application/vnd.databricks.v1+cell": {
     "cellMetadata": {
      "byteLimit": 2048000,
      "rowLimit": 10000
     },
     "inputWidgets": {},
     "nuid": "37e90e13-046b-4028-ae31-8b5ba1869dee",
     "showTitle": false,
     "title": ""
    }
   },
   "outputs": [],
   "source": [
    "# Ajouter une colonne d'attaque en sommant les statistiques d'attaque et attaque spéciale\n",
    "stat_columns = ['attack', 'special-attack']\n",
    "df_cleaned['total_attack'] = df_cleaned[stat_columns].sum(axis=1)"
   ]
  },
  {
   "cell_type": "code",
   "execution_count": 0,
   "metadata": {
    "application/vnd.databricks.v1+cell": {
     "cellMetadata": {
      "byteLimit": 2048000,
      "rowLimit": 10000
     },
     "inputWidgets": {},
     "nuid": "8f842875-e7fd-405e-b6e9-a28ef8636c92",
     "showTitle": false,
     "title": ""
    }
   },
   "outputs": [],
   "source": [
    "# Ajouter une colonne de défense en sommant les statistiques de défense et de défense spéciale\n",
    "stat_columns = ['defense', 'special-defense']\n",
    "df_cleaned['total_defense'] = df_cleaned[stat_columns].sum(axis=1)"
   ]
  },
  {
   "cell_type": "code",
   "execution_count": 0,
   "metadata": {
    "application/vnd.databricks.v1+cell": {
     "cellMetadata": {
      "byteLimit": 2048000,
      "rowLimit": 10000
     },
     "inputWidgets": {},
     "nuid": "e160f23b-95ac-4136-9b16-425aa5fc9107",
     "showTitle": false,
     "title": ""
    }
   },
   "outputs": [],
   "source": [
    "# Ajouter une colonne de physique en sommant les statistiques d'attaque et de défense\n",
    "stat_columns = ['attack', 'defense']\n",
    "df_cleaned['total_physic'] = df_cleaned[stat_columns].sum(axis=1)"
   ]
  },
  {
   "cell_type": "code",
   "execution_count": 0,
   "metadata": {
    "application/vnd.databricks.v1+cell": {
     "cellMetadata": {
      "byteLimit": 2048000,
      "rowLimit": 10000
     },
     "inputWidgets": {},
     "nuid": "e3bfe964-72e6-40e2-8677-c0c6705fe01b",
     "showTitle": false,
     "title": ""
    }
   },
   "outputs": [],
   "source": [
    "# Ajouter une colonne de physique en sommant les statistiques d'attaque spéciale et de défense spéciale\n",
    "stat_columns = ['special-attack', 'special-defense']\n",
    "df_cleaned['total_special'] = df_cleaned[stat_columns].sum(axis=1)"
   ]
  },
  {
   "cell_type": "code",
   "execution_count": 0,
   "metadata": {
    "application/vnd.databricks.v1+cell": {
     "cellMetadata": {
      "byteLimit": 2048000,
      "rowLimit": 10000
     },
     "inputWidgets": {},
     "nuid": "9d5ff6d3-7ddf-4b35-86f9-4fab68e72324",
     "showTitle": false,
     "title": ""
    }
   },
   "outputs": [
    {
     "output_type": "execute_result",
     "data": {
      "text/html": [
       "<div>\n",
       "<style scoped>\n",
       "    .dataframe tbody tr th:only-of-type {\n",
       "        vertical-align: middle;\n",
       "    }\n",
       "\n",
       "    .dataframe tbody tr th {\n",
       "        vertical-align: top;\n",
       "    }\n",
       "\n",
       "    .dataframe thead th {\n",
       "        text-align: right;\n",
       "    }\n",
       "</style>\n",
       "<table border=\"1\" class=\"dataframe\">\n",
       "  <thead>\n",
       "    <tr style=\"text-align: right;\">\n",
       "      <th></th>\n",
       "      <th>id</th>\n",
       "      <th>name</th>\n",
       "      <th>height</th>\n",
       "      <th>weight</th>\n",
       "      <th>hp</th>\n",
       "      <th>attack</th>\n",
       "      <th>defense</th>\n",
       "      <th>special-attack</th>\n",
       "      <th>special-defense</th>\n",
       "      <th>speed</th>\n",
       "      <th>types</th>\n",
       "      <th>total_power</th>\n",
       "      <th>total_attack</th>\n",
       "      <th>total_defense</th>\n",
       "      <th>total_physic</th>\n",
       "      <th>total_special</th>\n",
       "    </tr>\n",
       "  </thead>\n",
       "  <tbody>\n",
       "    <tr>\n",
       "      <th>0</th>\n",
       "      <td>1</td>\n",
       "      <td>bulbasaur</td>\n",
       "      <td>7</td>\n",
       "      <td>69</td>\n",
       "      <td>45</td>\n",
       "      <td>49</td>\n",
       "      <td>49</td>\n",
       "      <td>65</td>\n",
       "      <td>65</td>\n",
       "      <td>45</td>\n",
       "      <td>[grass, poison]</td>\n",
       "      <td>318</td>\n",
       "      <td>114</td>\n",
       "      <td>114</td>\n",
       "      <td>98</td>\n",
       "      <td>130</td>\n",
       "    </tr>\n",
       "    <tr>\n",
       "      <th>1</th>\n",
       "      <td>2</td>\n",
       "      <td>ivysaur</td>\n",
       "      <td>10</td>\n",
       "      <td>130</td>\n",
       "      <td>60</td>\n",
       "      <td>62</td>\n",
       "      <td>63</td>\n",
       "      <td>80</td>\n",
       "      <td>80</td>\n",
       "      <td>60</td>\n",
       "      <td>[grass, poison]</td>\n",
       "      <td>405</td>\n",
       "      <td>142</td>\n",
       "      <td>143</td>\n",
       "      <td>125</td>\n",
       "      <td>160</td>\n",
       "    </tr>\n",
       "    <tr>\n",
       "      <th>2</th>\n",
       "      <td>3</td>\n",
       "      <td>venusaur</td>\n",
       "      <td>20</td>\n",
       "      <td>1000</td>\n",
       "      <td>80</td>\n",
       "      <td>82</td>\n",
       "      <td>83</td>\n",
       "      <td>100</td>\n",
       "      <td>100</td>\n",
       "      <td>80</td>\n",
       "      <td>[grass, poison]</td>\n",
       "      <td>525</td>\n",
       "      <td>182</td>\n",
       "      <td>183</td>\n",
       "      <td>165</td>\n",
       "      <td>200</td>\n",
       "    </tr>\n",
       "    <tr>\n",
       "      <th>3</th>\n",
       "      <td>4</td>\n",
       "      <td>charmander</td>\n",
       "      <td>6</td>\n",
       "      <td>85</td>\n",
       "      <td>39</td>\n",
       "      <td>52</td>\n",
       "      <td>43</td>\n",
       "      <td>60</td>\n",
       "      <td>50</td>\n",
       "      <td>65</td>\n",
       "      <td>[fire]</td>\n",
       "      <td>309</td>\n",
       "      <td>112</td>\n",
       "      <td>93</td>\n",
       "      <td>95</td>\n",
       "      <td>110</td>\n",
       "    </tr>\n",
       "    <tr>\n",
       "      <th>4</th>\n",
       "      <td>5</td>\n",
       "      <td>charmeleon</td>\n",
       "      <td>11</td>\n",
       "      <td>190</td>\n",
       "      <td>58</td>\n",
       "      <td>64</td>\n",
       "      <td>58</td>\n",
       "      <td>80</td>\n",
       "      <td>65</td>\n",
       "      <td>80</td>\n",
       "      <td>[fire]</td>\n",
       "      <td>405</td>\n",
       "      <td>144</td>\n",
       "      <td>123</td>\n",
       "      <td>122</td>\n",
       "      <td>145</td>\n",
       "    </tr>\n",
       "  </tbody>\n",
       "</table>\n",
       "</div>"
      ],
      "text/plain": [
       "   id        name  height  ...  total_defense  total_physic  total_special\n",
       "0   1   bulbasaur       7  ...            114            98            130\n",
       "1   2     ivysaur      10  ...            143           125            160\n",
       "2   3    venusaur      20  ...            183           165            200\n",
       "3   4  charmander       6  ...             93            95            110\n",
       "4   5  charmeleon      11  ...            123           122            145\n",
       "\n",
       "[5 rows x 16 columns]"
      ]
     },
     "execution_count": 16,
     "metadata": {},
     "output_type": "execute_result"
    }
   ],
   "source": [
    "df_cleaned.head()"
   ]
  },
  {
   "cell_type": "code",
   "execution_count": 0,
   "metadata": {
    "application/vnd.databricks.v1+cell": {
     "cellMetadata": {
      "byteLimit": 2048000,
      "rowLimit": 10000
     },
     "inputWidgets": {},
     "nuid": "4812bdd8-8a6c-42af-b7fd-79bddf38beef",
     "showTitle": false,
     "title": ""
    }
   },
   "outputs": [],
   "source": [
    "# Convertir de nouveau en Spark DataFrame\n",
    "df_spark_cleaned = spark.createDataFrame(df_cleaned)\n",
    "\n",
    "# Enregistrer les données nettoyées dans Delta Lake\n",
    "df_spark_cleaned.write.format(\"delta\").mode(\"overwrite\").save(\"/mnt/datalake/pokemon_clean\")"
   ]
  },
  {
   "cell_type": "code",
   "execution_count": 0,
   "metadata": {
    "application/vnd.databricks.v1+cell": {
     "cellMetadata": {
      "byteLimit": 2048000,
      "rowLimit": 10000
     },
     "inputWidgets": {},
     "nuid": "f097a1b2-830a-4a18-af97-a29a1e79fbf8",
     "showTitle": false,
     "title": ""
    }
   },
   "outputs": [],
   "source": [
    "# Lire les données nettoyées depuis Delta Lake\n",
    "df_clean = spark.read.format(\"delta\").load(\"/mnt/datalake/pokemon_clean\")"
   ]
  },
  {
   "cell_type": "code",
   "execution_count": 0,
   "metadata": {
    "application/vnd.databricks.v1+cell": {
     "cellMetadata": {
      "byteLimit": 2048000,
      "rowLimit": 10000
     },
     "inputWidgets": {},
     "nuid": "bf1763a3-c469-4b6c-bb66-30e2e6cd4ef7",
     "showTitle": false,
     "title": ""
    }
   },
   "outputs": [
    {
     "output_type": "display_data",
     "data": {
      "text/html": [
       "<style scoped>\n",
       "  .table-result-container {\n",
       "    max-height: 300px;\n",
       "    overflow: auto;\n",
       "  }\n",
       "  table, th, td {\n",
       "    border: 1px solid black;\n",
       "    border-collapse: collapse;\n",
       "  }\n",
       "  th, td {\n",
       "    padding: 5px;\n",
       "  }\n",
       "  th {\n",
       "    text-align: left;\n",
       "  }\n",
       "</style><div class='table-result-container'><table class='table-result'><thead style='background-color: white'><tr><th>id</th><th>name</th><th>hp</th><th>attack</th><th>defense</th><th>special-attack</th><th>special-defense</th><th>speed</th><th>total_power</th><th>types</th><th>total_attack</th><th>total_defense</th><th>total_physic</th><th>total_special</th></tr></thead><tbody><tr><td>493</td><td>arceus</td><td>120</td><td>120</td><td>120</td><td>120</td><td>120</td><td>120</td><td>720</td><td>List(normal)</td><td>240</td><td>240</td><td>240</td><td>240</td></tr><tr><td>890</td><td>eternatus</td><td>140</td><td>85</td><td>95</td><td>145</td><td>95</td><td>130</td><td>690</td><td>List(poison, dragon)</td><td>230</td><td>190</td><td>180</td><td>240</td></tr><tr><td>250</td><td>ho-oh</td><td>106</td><td>130</td><td>90</td><td>110</td><td>154</td><td>90</td><td>680</td><td>List(fire, flying)</td><td>240</td><td>244</td><td>220</td><td>264</td></tr><tr><td>150</td><td>mewtwo</td><td>106</td><td>110</td><td>90</td><td>154</td><td>90</td><td>130</td><td>680</td><td>List(psychic)</td><td>264</td><td>180</td><td>200</td><td>244</td></tr><tr><td>384</td><td>rayquaza</td><td>105</td><td>150</td><td>90</td><td>150</td><td>90</td><td>95</td><td>680</td><td>List(dragon, flying)</td><td>300</td><td>180</td><td>240</td><td>240</td></tr><tr><td>249</td><td>lugia</td><td>106</td><td>90</td><td>130</td><td>90</td><td>154</td><td>110</td><td>680</td><td>List(psychic, flying)</td><td>180</td><td>284</td><td>220</td><td>244</td></tr><tr><td>487</td><td>giratina-altered</td><td>150</td><td>100</td><td>120</td><td>100</td><td>120</td><td>90</td><td>680</td><td>List(ghost, dragon)</td><td>200</td><td>240</td><td>220</td><td>220</td></tr><tr><td>643</td><td>reshiram</td><td>100</td><td>120</td><td>100</td><td>150</td><td>120</td><td>90</td><td>680</td><td>List(dragon, fire)</td><td>270</td><td>220</td><td>220</td><td>270</td></tr><tr><td>483</td><td>dialga</td><td>100</td><td>120</td><td>120</td><td>150</td><td>100</td><td>90</td><td>680</td><td>List(steel, dragon)</td><td>270</td><td>220</td><td>240</td><td>250</td></tr><tr><td>484</td><td>palkia</td><td>90</td><td>120</td><td>100</td><td>150</td><td>120</td><td>100</td><td>680</td><td>List(water, dragon)</td><td>270</td><td>220</td><td>220</td><td>270</td></tr></tbody></table></div>"
      ]
     },
     "metadata": {
      "application/vnd.databricks.v1+output": {
       "addedWidgets": {},
       "aggData": [],
       "aggError": "",
       "aggOverflow": false,
       "aggSchema": [],
       "aggSeriesLimitReached": false,
       "aggType": "",
       "arguments": {},
       "columnCustomDisplayInfos": {},
       "data": [
        [
         493,
         "arceus",
         120,
         120,
         120,
         120,
         120,
         120,
         720,
         [
          "normal"
         ],
         240,
         240,
         240,
         240
        ],
        [
         890,
         "eternatus",
         140,
         85,
         95,
         145,
         95,
         130,
         690,
         [
          "poison",
          "dragon"
         ],
         230,
         190,
         180,
         240
        ],
        [
         250,
         "ho-oh",
         106,
         130,
         90,
         110,
         154,
         90,
         680,
         [
          "fire",
          "flying"
         ],
         240,
         244,
         220,
         264
        ],
        [
         150,
         "mewtwo",
         106,
         110,
         90,
         154,
         90,
         130,
         680,
         [
          "psychic"
         ],
         264,
         180,
         200,
         244
        ],
        [
         384,
         "rayquaza",
         105,
         150,
         90,
         150,
         90,
         95,
         680,
         [
          "dragon",
          "flying"
         ],
         300,
         180,
         240,
         240
        ],
        [
         249,
         "lugia",
         106,
         90,
         130,
         90,
         154,
         110,
         680,
         [
          "psychic",
          "flying"
         ],
         180,
         284,
         220,
         244
        ],
        [
         487,
         "giratina-altered",
         150,
         100,
         120,
         100,
         120,
         90,
         680,
         [
          "ghost",
          "dragon"
         ],
         200,
         240,
         220,
         220
        ],
        [
         643,
         "reshiram",
         100,
         120,
         100,
         150,
         120,
         90,
         680,
         [
          "dragon",
          "fire"
         ],
         270,
         220,
         220,
         270
        ],
        [
         483,
         "dialga",
         100,
         120,
         120,
         150,
         100,
         90,
         680,
         [
          "steel",
          "dragon"
         ],
         270,
         220,
         240,
         250
        ],
        [
         484,
         "palkia",
         90,
         120,
         100,
         150,
         120,
         100,
         680,
         [
          "water",
          "dragon"
         ],
         270,
         220,
         220,
         270
        ]
       ],
       "datasetInfos": [],
       "dbfsResultPath": null,
       "isJsonSchema": true,
       "metadata": {},
       "overflow": false,
       "plotOptions": {
        "customPlotOptions": {},
        "displayType": "table",
        "pivotAggregation": null,
        "pivotColumns": null,
        "xColumns": null,
        "yColumns": null
       },
       "removedWidgets": [],
       "schema": [
        {
         "metadata": "{}",
         "name": "id",
         "type": "\"long\""
        },
        {
         "metadata": "{}",
         "name": "name",
         "type": "\"string\""
        },
        {
         "metadata": "{}",
         "name": "hp",
         "type": "\"long\""
        },
        {
         "metadata": "{}",
         "name": "attack",
         "type": "\"long\""
        },
        {
         "metadata": "{}",
         "name": "defense",
         "type": "\"long\""
        },
        {
         "metadata": "{}",
         "name": "special-attack",
         "type": "\"long\""
        },
        {
         "metadata": "{}",
         "name": "special-defense",
         "type": "\"long\""
        },
        {
         "metadata": "{}",
         "name": "speed",
         "type": "\"long\""
        },
        {
         "metadata": "{}",
         "name": "total_power",
         "type": "\"long\""
        },
        {
         "metadata": "{}",
         "name": "types",
         "type": "{\"type\":\"array\",\"elementType\":\"string\",\"containsNull\":true}"
        },
        {
         "metadata": "{}",
         "name": "total_attack",
         "type": "\"long\""
        },
        {
         "metadata": "{}",
         "name": "total_defense",
         "type": "\"long\""
        },
        {
         "metadata": "{}",
         "name": "total_physic",
         "type": "\"long\""
        },
        {
         "metadata": "{}",
         "name": "total_special",
         "type": "\"long\""
        }
       ],
       "type": "table"
      }
     },
     "output_type": "display_data"
    },
    {
     "output_type": "display_data",
     "data": {
      "text/html": [
       "<style scoped>\n",
       "  .table-result-container {\n",
       "    max-height: 300px;\n",
       "    overflow: auto;\n",
       "  }\n",
       "  table, th, td {\n",
       "    border: 1px solid black;\n",
       "    border-collapse: collapse;\n",
       "  }\n",
       "  th, td {\n",
       "    padding: 5px;\n",
       "  }\n",
       "  th {\n",
       "    text-align: left;\n",
       "  }\n",
       "</style><div class='table-result-container'><table class='table-result'><thead style='background-color: white'><tr><th>id</th><th>name</th><th>hp</th><th>attack</th><th>defense</th><th>special-attack</th><th>special-defense</th><th>speed</th><th>total_power</th><th>types</th><th>total_attack</th><th>total_defense</th><th>total_physic</th><th>total_special</th></tr></thead><tbody><tr><td>384</td><td>rayquaza</td><td>105</td><td>150</td><td>90</td><td>150</td><td>90</td><td>95</td><td>680</td><td>List(dragon, flying)</td><td>300</td><td>180</td><td>240</td><td>240</td></tr><tr><td>386</td><td>deoxys-normal</td><td>50</td><td>150</td><td>50</td><td>150</td><td>50</td><td>150</td><td>600</td><td>List(psychic)</td><td>300</td><td>100</td><td>200</td><td>200</td></tr><tr><td>806</td><td>blacephalon</td><td>53</td><td>127</td><td>53</td><td>151</td><td>79</td><td>107</td><td>570</td><td>List(fire, ghost)</td><td>278</td><td>132</td><td>180</td><td>230</td></tr><tr><td>795</td><td>pheromosa</td><td>71</td><td>137</td><td>37</td><td>137</td><td>37</td><td>151</td><td>570</td><td>List(bug, fighting)</td><td>274</td><td>74</td><td>174</td><td>174</td></tr><tr><td>644</td><td>zekrom</td><td>100</td><td>150</td><td>120</td><td>120</td><td>100</td><td>90</td><td>680</td><td>List(dragon, electric)</td><td>270</td><td>220</td><td>270</td><td>220</td></tr><tr><td>484</td><td>palkia</td><td>90</td><td>120</td><td>100</td><td>150</td><td>120</td><td>100</td><td>680</td><td>List(water, dragon)</td><td>270</td><td>220</td><td>220</td><td>270</td></tr><tr><td>643</td><td>reshiram</td><td>100</td><td>120</td><td>100</td><td>150</td><td>120</td><td>90</td><td>680</td><td>List(dragon, fire)</td><td>270</td><td>220</td><td>220</td><td>270</td></tr><tr><td>483</td><td>dialga</td><td>100</td><td>120</td><td>120</td><td>150</td><td>100</td><td>90</td><td>680</td><td>List(steel, dragon)</td><td>270</td><td>220</td><td>240</td><td>250</td></tr><tr><td>150</td><td>mewtwo</td><td>106</td><td>110</td><td>90</td><td>154</td><td>90</td><td>130</td><td>680</td><td>List(psychic)</td><td>264</td><td>180</td><td>200</td><td>244</td></tr><tr><td>716</td><td>xerneas</td><td>126</td><td>131</td><td>95</td><td>131</td><td>98</td><td>99</td><td>680</td><td>List(fairy)</td><td>262</td><td>193</td><td>226</td><td>229</td></tr></tbody></table></div>"
      ]
     },
     "metadata": {
      "application/vnd.databricks.v1+output": {
       "addedWidgets": {},
       "aggData": [],
       "aggError": "",
       "aggOverflow": false,
       "aggSchema": [],
       "aggSeriesLimitReached": false,
       "aggType": "",
       "arguments": {},
       "columnCustomDisplayInfos": {},
       "data": [
        [
         384,
         "rayquaza",
         105,
         150,
         90,
         150,
         90,
         95,
         680,
         [
          "dragon",
          "flying"
         ],
         300,
         180,
         240,
         240
        ],
        [
         386,
         "deoxys-normal",
         50,
         150,
         50,
         150,
         50,
         150,
         600,
         [
          "psychic"
         ],
         300,
         100,
         200,
         200
        ],
        [
         806,
         "blacephalon",
         53,
         127,
         53,
         151,
         79,
         107,
         570,
         [
          "fire",
          "ghost"
         ],
         278,
         132,
         180,
         230
        ],
        [
         795,
         "pheromosa",
         71,
         137,
         37,
         137,
         37,
         151,
         570,
         [
          "bug",
          "fighting"
         ],
         274,
         74,
         174,
         174
        ],
        [
         644,
         "zekrom",
         100,
         150,
         120,
         120,
         100,
         90,
         680,
         [
          "dragon",
          "electric"
         ],
         270,
         220,
         270,
         220
        ],
        [
         484,
         "palkia",
         90,
         120,
         100,
         150,
         120,
         100,
         680,
         [
          "water",
          "dragon"
         ],
         270,
         220,
         220,
         270
        ],
        [
         643,
         "reshiram",
         100,
         120,
         100,
         150,
         120,
         90,
         680,
         [
          "dragon",
          "fire"
         ],
         270,
         220,
         220,
         270
        ],
        [
         483,
         "dialga",
         100,
         120,
         120,
         150,
         100,
         90,
         680,
         [
          "steel",
          "dragon"
         ],
         270,
         220,
         240,
         250
        ],
        [
         150,
         "mewtwo",
         106,
         110,
         90,
         154,
         90,
         130,
         680,
         [
          "psychic"
         ],
         264,
         180,
         200,
         244
        ],
        [
         716,
         "xerneas",
         126,
         131,
         95,
         131,
         98,
         99,
         680,
         [
          "fairy"
         ],
         262,
         193,
         226,
         229
        ]
       ],
       "datasetInfos": [],
       "dbfsResultPath": null,
       "isJsonSchema": true,
       "metadata": {},
       "overflow": false,
       "plotOptions": {
        "customPlotOptions": {},
        "displayType": "table",
        "pivotAggregation": null,
        "pivotColumns": null,
        "xColumns": null,
        "yColumns": null
       },
       "removedWidgets": [],
       "schema": [
        {
         "metadata": "{}",
         "name": "id",
         "type": "\"long\""
        },
        {
         "metadata": "{}",
         "name": "name",
         "type": "\"string\""
        },
        {
         "metadata": "{}",
         "name": "hp",
         "type": "\"long\""
        },
        {
         "metadata": "{}",
         "name": "attack",
         "type": "\"long\""
        },
        {
         "metadata": "{}",
         "name": "defense",
         "type": "\"long\""
        },
        {
         "metadata": "{}",
         "name": "special-attack",
         "type": "\"long\""
        },
        {
         "metadata": "{}",
         "name": "special-defense",
         "type": "\"long\""
        },
        {
         "metadata": "{}",
         "name": "speed",
         "type": "\"long\""
        },
        {
         "metadata": "{}",
         "name": "total_power",
         "type": "\"long\""
        },
        {
         "metadata": "{}",
         "name": "types",
         "type": "{\"type\":\"array\",\"elementType\":\"string\",\"containsNull\":true}"
        },
        {
         "metadata": "{}",
         "name": "total_attack",
         "type": "\"long\""
        },
        {
         "metadata": "{}",
         "name": "total_defense",
         "type": "\"long\""
        },
        {
         "metadata": "{}",
         "name": "total_physic",
         "type": "\"long\""
        },
        {
         "metadata": "{}",
         "name": "total_special",
         "type": "\"long\""
        }
       ],
       "type": "table"
      }
     },
     "output_type": "display_data"
    },
    {
     "output_type": "display_data",
     "data": {
      "text/html": [
       "<style scoped>\n",
       "  .table-result-container {\n",
       "    max-height: 300px;\n",
       "    overflow: auto;\n",
       "  }\n",
       "  table, th, td {\n",
       "    border: 1px solid black;\n",
       "    border-collapse: collapse;\n",
       "  }\n",
       "  th, td {\n",
       "    padding: 5px;\n",
       "  }\n",
       "  th {\n",
       "    text-align: left;\n",
       "  }\n",
       "</style><div class='table-result-container'><table class='table-result'><thead style='background-color: white'><tr><th>id</th><th>name</th><th>hp</th><th>attack</th><th>defense</th><th>special-attack</th><th>special-defense</th><th>speed</th><th>total_power</th><th>types</th><th>total_attack</th><th>total_defense</th><th>total_physic</th><th>total_special</th></tr></thead><tbody><tr><td>213</td><td>shuckle</td><td>20</td><td>10</td><td>230</td><td>10</td><td>230</td><td>5</td><td>505</td><td>List(bug, rock)</td><td>20</td><td>460</td><td>240</td><td>240</td></tr><tr><td>805</td><td>stakataka</td><td>61</td><td>131</td><td>211</td><td>53</td><td>101</td><td>13</td><td>570</td><td>List(rock, steel)</td><td>184</td><td>312</td><td>342</td><td>154</td></tr><tr><td>411</td><td>bastiodon</td><td>60</td><td>52</td><td>168</td><td>47</td><td>138</td><td>30</td><td>495</td><td>List(rock, steel)</td><td>99</td><td>306</td><td>220</td><td>185</td></tr><tr><td>377</td><td>regirock</td><td>80</td><td>100</td><td>200</td><td>50</td><td>100</td><td>50</td><td>580</td><td>List(rock)</td><td>150</td><td>300</td><td>300</td><td>150</td></tr><tr><td>719</td><td>diancie</td><td>50</td><td>100</td><td>150</td><td>100</td><td>150</td><td>50</td><td>600</td><td>List(rock, fairy)</td><td>200</td><td>300</td><td>250</td><td>250</td></tr><tr><td>703</td><td>carbink</td><td>50</td><td>50</td><td>150</td><td>50</td><td>150</td><td>50</td><td>500</td><td>List(rock, fairy)</td><td>100</td><td>300</td><td>200</td><td>200</td></tr><tr><td>379</td><td>registeel</td><td>80</td><td>75</td><td>150</td><td>75</td><td>150</td><td>50</td><td>580</td><td>List(steel)</td><td>150</td><td>300</td><td>225</td><td>225</td></tr><tr><td>378</td><td>regice</td><td>80</td><td>50</td><td>100</td><td>100</td><td>200</td><td>50</td><td>580</td><td>List(ice)</td><td>150</td><td>300</td><td>150</td><td>300</td></tr><tr><td>476</td><td>probopass</td><td>60</td><td>55</td><td>145</td><td>75</td><td>150</td><td>40</td><td>525</td><td>List(rock, steel)</td><td>130</td><td>295</td><td>200</td><td>225</td></tr><tr><td>748</td><td>toxapex</td><td>50</td><td>63</td><td>152</td><td>53</td><td>142</td><td>35</td><td>495</td><td>List(poison, water)</td><td>116</td><td>294</td><td>215</td><td>195</td></tr></tbody></table></div>"
      ]
     },
     "metadata": {
      "application/vnd.databricks.v1+output": {
       "addedWidgets": {},
       "aggData": [],
       "aggError": "",
       "aggOverflow": false,
       "aggSchema": [],
       "aggSeriesLimitReached": false,
       "aggType": "",
       "arguments": {},
       "columnCustomDisplayInfos": {},
       "data": [
        [
         213,
         "shuckle",
         20,
         10,
         230,
         10,
         230,
         5,
         505,
         [
          "bug",
          "rock"
         ],
         20,
         460,
         240,
         240
        ],
        [
         805,
         "stakataka",
         61,
         131,
         211,
         53,
         101,
         13,
         570,
         [
          "rock",
          "steel"
         ],
         184,
         312,
         342,
         154
        ],
        [
         411,
         "bastiodon",
         60,
         52,
         168,
         47,
         138,
         30,
         495,
         [
          "rock",
          "steel"
         ],
         99,
         306,
         220,
         185
        ],
        [
         377,
         "regirock",
         80,
         100,
         200,
         50,
         100,
         50,
         580,
         [
          "rock"
         ],
         150,
         300,
         300,
         150
        ],
        [
         719,
         "diancie",
         50,
         100,
         150,
         100,
         150,
         50,
         600,
         [
          "rock",
          "fairy"
         ],
         200,
         300,
         250,
         250
        ],
        [
         703,
         "carbink",
         50,
         50,
         150,
         50,
         150,
         50,
         500,
         [
          "rock",
          "fairy"
         ],
         100,
         300,
         200,
         200
        ],
        [
         379,
         "registeel",
         80,
         75,
         150,
         75,
         150,
         50,
         580,
         [
          "steel"
         ],
         150,
         300,
         225,
         225
        ],
        [
         378,
         "regice",
         80,
         50,
         100,
         100,
         200,
         50,
         580,
         [
          "ice"
         ],
         150,
         300,
         150,
         300
        ],
        [
         476,
         "probopass",
         60,
         55,
         145,
         75,
         150,
         40,
         525,
         [
          "rock",
          "steel"
         ],
         130,
         295,
         200,
         225
        ],
        [
         748,
         "toxapex",
         50,
         63,
         152,
         53,
         142,
         35,
         495,
         [
          "poison",
          "water"
         ],
         116,
         294,
         215,
         195
        ]
       ],
       "datasetInfos": [],
       "dbfsResultPath": null,
       "isJsonSchema": true,
       "metadata": {},
       "overflow": false,
       "plotOptions": {
        "customPlotOptions": {},
        "displayType": "table",
        "pivotAggregation": null,
        "pivotColumns": null,
        "xColumns": null,
        "yColumns": null
       },
       "removedWidgets": [],
       "schema": [
        {
         "metadata": "{}",
         "name": "id",
         "type": "\"long\""
        },
        {
         "metadata": "{}",
         "name": "name",
         "type": "\"string\""
        },
        {
         "metadata": "{}",
         "name": "hp",
         "type": "\"long\""
        },
        {
         "metadata": "{}",
         "name": "attack",
         "type": "\"long\""
        },
        {
         "metadata": "{}",
         "name": "defense",
         "type": "\"long\""
        },
        {
         "metadata": "{}",
         "name": "special-attack",
         "type": "\"long\""
        },
        {
         "metadata": "{}",
         "name": "special-defense",
         "type": "\"long\""
        },
        {
         "metadata": "{}",
         "name": "speed",
         "type": "\"long\""
        },
        {
         "metadata": "{}",
         "name": "total_power",
         "type": "\"long\""
        },
        {
         "metadata": "{}",
         "name": "types",
         "type": "{\"type\":\"array\",\"elementType\":\"string\",\"containsNull\":true}"
        },
        {
         "metadata": "{}",
         "name": "total_attack",
         "type": "\"long\""
        },
        {
         "metadata": "{}",
         "name": "total_defense",
         "type": "\"long\""
        },
        {
         "metadata": "{}",
         "name": "total_physic",
         "type": "\"long\""
        },
        {
         "metadata": "{}",
         "name": "total_special",
         "type": "\"long\""
        }
       ],
       "type": "table"
      }
     },
     "output_type": "display_data"
    },
    {
     "output_type": "display_data",
     "data": {
      "text/html": [
       "<style scoped>\n",
       "  .table-result-container {\n",
       "    max-height: 300px;\n",
       "    overflow: auto;\n",
       "  }\n",
       "  table, th, td {\n",
       "    border: 1px solid black;\n",
       "    border-collapse: collapse;\n",
       "  }\n",
       "  th, td {\n",
       "    padding: 5px;\n",
       "  }\n",
       "  th {\n",
       "    text-align: left;\n",
       "  }\n",
       "</style><div class='table-result-container'><table class='table-result'><thead style='background-color: white'><tr><th>id</th><th>name</th><th>hp</th><th>attack</th><th>defense</th><th>special-attack</th><th>special-defense</th><th>speed</th><th>total_power</th><th>types</th><th>total_attack</th><th>total_defense</th><th>total_physic</th><th>total_special</th></tr></thead><tbody><tr><td>805</td><td>stakataka</td><td>61</td><td>131</td><td>211</td><td>53</td><td>101</td><td>13</td><td>570</td><td>List(rock, steel)</td><td>184</td><td>312</td><td>342</td><td>154</td></tr><tr><td>798</td><td>kartana</td><td>59</td><td>181</td><td>131</td><td>59</td><td>31</td><td>109</td><td>570</td><td>List(grass, steel)</td><td>240</td><td>162</td><td>312</td><td>90</td></tr><tr><td>713</td><td>avalugg</td><td>95</td><td>117</td><td>184</td><td>44</td><td>46</td><td>28</td><td>514</td><td>List(ice)</td><td>161</td><td>230</td><td>301</td><td>90</td></tr><tr><td>377</td><td>regirock</td><td>80</td><td>100</td><td>200</td><td>50</td><td>100</td><td>50</td><td>580</td><td>List(rock)</td><td>150</td><td>300</td><td>300</td><td>150</td></tr><tr><td>306</td><td>aggron</td><td>70</td><td>110</td><td>180</td><td>60</td><td>60</td><td>50</td><td>530</td><td>List(steel, rock)</td><td>170</td><td>240</td><td>290</td><td>120</td></tr><tr><td>383</td><td>groudon</td><td>100</td><td>150</td><td>140</td><td>100</td><td>90</td><td>90</td><td>670</td><td>List(ground)</td><td>250</td><td>230</td><td>290</td><td>190</td></tr><tr><td>809</td><td>melmetal</td><td>135</td><td>143</td><td>143</td><td>80</td><td>65</td><td>34</td><td>600</td><td>List(steel)</td><td>223</td><td>208</td><td>286</td><td>145</td></tr><tr><td>208</td><td>steelix</td><td>75</td><td>85</td><td>200</td><td>55</td><td>65</td><td>30</td><td>510</td><td>List(steel, ground)</td><td>140</td><td>265</td><td>285</td><td>120</td></tr><tr><td>794</td><td>buzzwole</td><td>107</td><td>139</td><td>139</td><td>53</td><td>53</td><td>79</td><td>570</td><td>List(bug, fighting)</td><td>192</td><td>192</td><td>278</td><td>106</td></tr><tr><td>91</td><td>cloyster</td><td>50</td><td>95</td><td>180</td><td>85</td><td>45</td><td>70</td><td>525</td><td>List(water, ice)</td><td>180</td><td>225</td><td>275</td><td>130</td></tr></tbody></table></div>"
      ]
     },
     "metadata": {
      "application/vnd.databricks.v1+output": {
       "addedWidgets": {},
       "aggData": [],
       "aggError": "",
       "aggOverflow": false,
       "aggSchema": [],
       "aggSeriesLimitReached": false,
       "aggType": "",
       "arguments": {},
       "columnCustomDisplayInfos": {},
       "data": [
        [
         805,
         "stakataka",
         61,
         131,
         211,
         53,
         101,
         13,
         570,
         [
          "rock",
          "steel"
         ],
         184,
         312,
         342,
         154
        ],
        [
         798,
         "kartana",
         59,
         181,
         131,
         59,
         31,
         109,
         570,
         [
          "grass",
          "steel"
         ],
         240,
         162,
         312,
         90
        ],
        [
         713,
         "avalugg",
         95,
         117,
         184,
         44,
         46,
         28,
         514,
         [
          "ice"
         ],
         161,
         230,
         301,
         90
        ],
        [
         377,
         "regirock",
         80,
         100,
         200,
         50,
         100,
         50,
         580,
         [
          "rock"
         ],
         150,
         300,
         300,
         150
        ],
        [
         306,
         "aggron",
         70,
         110,
         180,
         60,
         60,
         50,
         530,
         [
          "steel",
          "rock"
         ],
         170,
         240,
         290,
         120
        ],
        [
         383,
         "groudon",
         100,
         150,
         140,
         100,
         90,
         90,
         670,
         [
          "ground"
         ],
         250,
         230,
         290,
         190
        ],
        [
         809,
         "melmetal",
         135,
         143,
         143,
         80,
         65,
         34,
         600,
         [
          "steel"
         ],
         223,
         208,
         286,
         145
        ],
        [
         208,
         "steelix",
         75,
         85,
         200,
         55,
         65,
         30,
         510,
         [
          "steel",
          "ground"
         ],
         140,
         265,
         285,
         120
        ],
        [
         794,
         "buzzwole",
         107,
         139,
         139,
         53,
         53,
         79,
         570,
         [
          "bug",
          "fighting"
         ],
         192,
         192,
         278,
         106
        ],
        [
         91,
         "cloyster",
         50,
         95,
         180,
         85,
         45,
         70,
         525,
         [
          "water",
          "ice"
         ],
         180,
         225,
         275,
         130
        ]
       ],
       "datasetInfos": [],
       "dbfsResultPath": null,
       "isJsonSchema": true,
       "metadata": {},
       "overflow": false,
       "plotOptions": {
        "customPlotOptions": {},
        "displayType": "table",
        "pivotAggregation": null,
        "pivotColumns": null,
        "xColumns": null,
        "yColumns": null
       },
       "removedWidgets": [],
       "schema": [
        {
         "metadata": "{}",
         "name": "id",
         "type": "\"long\""
        },
        {
         "metadata": "{}",
         "name": "name",
         "type": "\"string\""
        },
        {
         "metadata": "{}",
         "name": "hp",
         "type": "\"long\""
        },
        {
         "metadata": "{}",
         "name": "attack",
         "type": "\"long\""
        },
        {
         "metadata": "{}",
         "name": "defense",
         "type": "\"long\""
        },
        {
         "metadata": "{}",
         "name": "special-attack",
         "type": "\"long\""
        },
        {
         "metadata": "{}",
         "name": "special-defense",
         "type": "\"long\""
        },
        {
         "metadata": "{}",
         "name": "speed",
         "type": "\"long\""
        },
        {
         "metadata": "{}",
         "name": "total_power",
         "type": "\"long\""
        },
        {
         "metadata": "{}",
         "name": "types",
         "type": "{\"type\":\"array\",\"elementType\":\"string\",\"containsNull\":true}"
        },
        {
         "metadata": "{}",
         "name": "total_attack",
         "type": "\"long\""
        },
        {
         "metadata": "{}",
         "name": "total_defense",
         "type": "\"long\""
        },
        {
         "metadata": "{}",
         "name": "total_physic",
         "type": "\"long\""
        },
        {
         "metadata": "{}",
         "name": "total_special",
         "type": "\"long\""
        }
       ],
       "type": "table"
      }
     },
     "output_type": "display_data"
    },
    {
     "output_type": "display_data",
     "data": {
      "text/html": [
       "<style scoped>\n",
       "  .table-result-container {\n",
       "    max-height: 300px;\n",
       "    overflow: auto;\n",
       "  }\n",
       "  table, th, td {\n",
       "    border: 1px solid black;\n",
       "    border-collapse: collapse;\n",
       "  }\n",
       "  th, td {\n",
       "    padding: 5px;\n",
       "  }\n",
       "  th {\n",
       "    text-align: left;\n",
       "  }\n",
       "</style><div class='table-result-container'><table class='table-result'><thead style='background-color: white'><tr><th>id</th><th>name</th><th>hp</th><th>attack</th><th>defense</th><th>special-attack</th><th>special-defense</th><th>speed</th><th>total_power</th><th>types</th><th>total_attack</th><th>total_defense</th><th>total_physic</th><th>total_special</th></tr></thead><tbody><tr><td>378</td><td>regice</td><td>80</td><td>50</td><td>100</td><td>100</td><td>200</td><td>50</td><td>580</td><td>List(ice)</td><td>150</td><td>300</td><td>150</td><td>300</td></tr><tr><td>382</td><td>kyogre</td><td>100</td><td>100</td><td>90</td><td>150</td><td>140</td><td>90</td><td>670</td><td>List(water)</td><td>250</td><td>230</td><td>190</td><td>290</td></tr><tr><td>720</td><td>hoopa</td><td>80</td><td>110</td><td>60</td><td>150</td><td>130</td><td>70</td><td>600</td><td>List(psychic, ghost)</td><td>260</td><td>190</td><td>170</td><td>280</td></tr><tr><td>864</td><td>cursola</td><td>60</td><td>95</td><td>50</td><td>145</td><td>130</td><td>30</td><td>510</td><td>List(ghost)</td><td>240</td><td>180</td><td>145</td><td>275</td></tr><tr><td>987</td><td>flutter-mane</td><td>55</td><td>55</td><td>55</td><td>135</td><td>135</td><td>135</td><td>570</td><td>List(ghost, fairy)</td><td>190</td><td>190</td><td>110</td><td>270</td></tr><tr><td>643</td><td>reshiram</td><td>100</td><td>120</td><td>100</td><td>150</td><td>120</td><td>90</td><td>680</td><td>List(dragon, fire)</td><td>270</td><td>220</td><td>220</td><td>270</td></tr><tr><td>484</td><td>palkia</td><td>90</td><td>120</td><td>100</td><td>150</td><td>120</td><td>100</td><td>680</td><td>List(water, dragon)</td><td>270</td><td>220</td><td>220</td><td>270</td></tr><tr><td>671</td><td>florges</td><td>78</td><td>65</td><td>68</td><td>112</td><td>154</td><td>75</td><td>552</td><td>List(fairy)</td><td>177</td><td>222</td><td>133</td><td>266</td></tr><tr><td>250</td><td>ho-oh</td><td>106</td><td>130</td><td>90</td><td>110</td><td>154</td><td>90</td><td>680</td><td>List(fire, flying)</td><td>240</td><td>244</td><td>220</td><td>264</td></tr><tr><td>706</td><td>goodra</td><td>90</td><td>100</td><td>70</td><td>110</td><td>150</td><td>80</td><td>600</td><td>List(dragon)</td><td>210</td><td>220</td><td>170</td><td>260</td></tr></tbody></table></div>"
      ]
     },
     "metadata": {
      "application/vnd.databricks.v1+output": {
       "addedWidgets": {},
       "aggData": [],
       "aggError": "",
       "aggOverflow": false,
       "aggSchema": [],
       "aggSeriesLimitReached": false,
       "aggType": "",
       "arguments": {},
       "columnCustomDisplayInfos": {},
       "data": [
        [
         378,
         "regice",
         80,
         50,
         100,
         100,
         200,
         50,
         580,
         [
          "ice"
         ],
         150,
         300,
         150,
         300
        ],
        [
         382,
         "kyogre",
         100,
         100,
         90,
         150,
         140,
         90,
         670,
         [
          "water"
         ],
         250,
         230,
         190,
         290
        ],
        [
         720,
         "hoopa",
         80,
         110,
         60,
         150,
         130,
         70,
         600,
         [
          "psychic",
          "ghost"
         ],
         260,
         190,
         170,
         280
        ],
        [
         864,
         "cursola",
         60,
         95,
         50,
         145,
         130,
         30,
         510,
         [
          "ghost"
         ],
         240,
         180,
         145,
         275
        ],
        [
         987,
         "flutter-mane",
         55,
         55,
         55,
         135,
         135,
         135,
         570,
         [
          "ghost",
          "fairy"
         ],
         190,
         190,
         110,
         270
        ],
        [
         643,
         "reshiram",
         100,
         120,
         100,
         150,
         120,
         90,
         680,
         [
          "dragon",
          "fire"
         ],
         270,
         220,
         220,
         270
        ],
        [
         484,
         "palkia",
         90,
         120,
         100,
         150,
         120,
         100,
         680,
         [
          "water",
          "dragon"
         ],
         270,
         220,
         220,
         270
        ],
        [
         671,
         "florges",
         78,
         65,
         68,
         112,
         154,
         75,
         552,
         [
          "fairy"
         ],
         177,
         222,
         133,
         266
        ],
        [
         250,
         "ho-oh",
         106,
         130,
         90,
         110,
         154,
         90,
         680,
         [
          "fire",
          "flying"
         ],
         240,
         244,
         220,
         264
        ],
        [
         706,
         "goodra",
         90,
         100,
         70,
         110,
         150,
         80,
         600,
         [
          "dragon"
         ],
         210,
         220,
         170,
         260
        ]
       ],
       "datasetInfos": [],
       "dbfsResultPath": null,
       "isJsonSchema": true,
       "metadata": {},
       "overflow": false,
       "plotOptions": {
        "customPlotOptions": {},
        "displayType": "table",
        "pivotAggregation": null,
        "pivotColumns": null,
        "xColumns": null,
        "yColumns": null
       },
       "removedWidgets": [],
       "schema": [
        {
         "metadata": "{}",
         "name": "id",
         "type": "\"long\""
        },
        {
         "metadata": "{}",
         "name": "name",
         "type": "\"string\""
        },
        {
         "metadata": "{}",
         "name": "hp",
         "type": "\"long\""
        },
        {
         "metadata": "{}",
         "name": "attack",
         "type": "\"long\""
        },
        {
         "metadata": "{}",
         "name": "defense",
         "type": "\"long\""
        },
        {
         "metadata": "{}",
         "name": "special-attack",
         "type": "\"long\""
        },
        {
         "metadata": "{}",
         "name": "special-defense",
         "type": "\"long\""
        },
        {
         "metadata": "{}",
         "name": "speed",
         "type": "\"long\""
        },
        {
         "metadata": "{}",
         "name": "total_power",
         "type": "\"long\""
        },
        {
         "metadata": "{}",
         "name": "types",
         "type": "{\"type\":\"array\",\"elementType\":\"string\",\"containsNull\":true}"
        },
        {
         "metadata": "{}",
         "name": "total_attack",
         "type": "\"long\""
        },
        {
         "metadata": "{}",
         "name": "total_defense",
         "type": "\"long\""
        },
        {
         "metadata": "{}",
         "name": "total_physic",
         "type": "\"long\""
        },
        {
         "metadata": "{}",
         "name": "total_special",
         "type": "\"long\""
        }
       ],
       "type": "table"
      }
     },
     "output_type": "display_data"
    },
    {
     "output_type": "display_data",
     "data": {
      "text/html": [
       "<style scoped>\n",
       "  .table-result-container {\n",
       "    max-height: 300px;\n",
       "    overflow: auto;\n",
       "  }\n",
       "  table, th, td {\n",
       "    border: 1px solid black;\n",
       "    border-collapse: collapse;\n",
       "  }\n",
       "  th, td {\n",
       "    padding: 5px;\n",
       "  }\n",
       "  th {\n",
       "    text-align: left;\n",
       "  }\n",
       "</style><div class='table-result-container'><table class='table-result'><thead style='background-color: white'><tr><th>id</th><th>name</th><th>hp</th><th>attack</th><th>defense</th><th>special-attack</th><th>special-defense</th><th>speed</th><th>total_power</th><th>types</th><th>total_attack</th><th>total_defense</th><th>total_physic</th><th>total_special</th></tr></thead><tbody><tr><td>242</td><td>blissey</td><td>255</td><td>10</td><td>10</td><td>75</td><td>135</td><td>55</td><td>540</td><td>List(normal)</td><td>85</td><td>145</td><td>20</td><td>210</td></tr><tr><td>113</td><td>chansey</td><td>250</td><td>5</td><td>5</td><td>35</td><td>105</td><td>50</td><td>450</td><td>List(normal)</td><td>40</td><td>110</td><td>10</td><td>140</td></tr><tr><td>799</td><td>guzzlord</td><td>223</td><td>101</td><td>53</td><td>97</td><td>53</td><td>43</td><td>570</td><td>List(dark, dragon)</td><td>198</td><td>106</td><td>154</td><td>150</td></tr><tr><td>895</td><td>regidrago</td><td>200</td><td>100</td><td>50</td><td>100</td><td>50</td><td>80</td><td>580</td><td>List(dragon)</td><td>200</td><td>100</td><td>150</td><td>150</td></tr><tr><td>202</td><td>wobbuffet</td><td>190</td><td>33</td><td>58</td><td>33</td><td>58</td><td>33</td><td>405</td><td>List(psychic)</td><td>66</td><td>116</td><td>91</td><td>91</td></tr><tr><td>321</td><td>wailord</td><td>170</td><td>90</td><td>45</td><td>90</td><td>45</td><td>60</td><td>500</td><td>List(water)</td><td>180</td><td>90</td><td>135</td><td>135</td></tr><tr><td>975</td><td>cetitan</td><td>170</td><td>113</td><td>65</td><td>45</td><td>55</td><td>73</td><td>521</td><td>List(ice)</td><td>158</td><td>120</td><td>178</td><td>100</td></tr><tr><td>594</td><td>alomomola</td><td>165</td><td>75</td><td>80</td><td>40</td><td>45</td><td>65</td><td>470</td><td>List(water)</td><td>115</td><td>125</td><td>155</td><td>85</td></tr><tr><td>143</td><td>snorlax</td><td>160</td><td>110</td><td>65</td><td>65</td><td>110</td><td>30</td><td>540</td><td>List(normal)</td><td>175</td><td>175</td><td>175</td><td>175</td></tr><tr><td>1003</td><td>ting-lu</td><td>155</td><td>110</td><td>125</td><td>55</td><td>80</td><td>45</td><td>570</td><td>List(dark, ground)</td><td>165</td><td>205</td><td>235</td><td>135</td></tr></tbody></table></div>"
      ]
     },
     "metadata": {
      "application/vnd.databricks.v1+output": {
       "addedWidgets": {},
       "aggData": [],
       "aggError": "",
       "aggOverflow": false,
       "aggSchema": [],
       "aggSeriesLimitReached": false,
       "aggType": "",
       "arguments": {},
       "columnCustomDisplayInfos": {},
       "data": [
        [
         242,
         "blissey",
         255,
         10,
         10,
         75,
         135,
         55,
         540,
         [
          "normal"
         ],
         85,
         145,
         20,
         210
        ],
        [
         113,
         "chansey",
         250,
         5,
         5,
         35,
         105,
         50,
         450,
         [
          "normal"
         ],
         40,
         110,
         10,
         140
        ],
        [
         799,
         "guzzlord",
         223,
         101,
         53,
         97,
         53,
         43,
         570,
         [
          "dark",
          "dragon"
         ],
         198,
         106,
         154,
         150
        ],
        [
         895,
         "regidrago",
         200,
         100,
         50,
         100,
         50,
         80,
         580,
         [
          "dragon"
         ],
         200,
         100,
         150,
         150
        ],
        [
         202,
         "wobbuffet",
         190,
         33,
         58,
         33,
         58,
         33,
         405,
         [
          "psychic"
         ],
         66,
         116,
         91,
         91
        ],
        [
         321,
         "wailord",
         170,
         90,
         45,
         90,
         45,
         60,
         500,
         [
          "water"
         ],
         180,
         90,
         135,
         135
        ],
        [
         975,
         "cetitan",
         170,
         113,
         65,
         45,
         55,
         73,
         521,
         [
          "ice"
         ],
         158,
         120,
         178,
         100
        ],
        [
         594,
         "alomomola",
         165,
         75,
         80,
         40,
         45,
         65,
         470,
         [
          "water"
         ],
         115,
         125,
         155,
         85
        ],
        [
         143,
         "snorlax",
         160,
         110,
         65,
         65,
         110,
         30,
         540,
         [
          "normal"
         ],
         175,
         175,
         175,
         175
        ],
        [
         1003,
         "ting-lu",
         155,
         110,
         125,
         55,
         80,
         45,
         570,
         [
          "dark",
          "ground"
         ],
         165,
         205,
         235,
         135
        ]
       ],
       "datasetInfos": [],
       "dbfsResultPath": null,
       "isJsonSchema": true,
       "metadata": {},
       "overflow": false,
       "plotOptions": {
        "customPlotOptions": {},
        "displayType": "table",
        "pivotAggregation": null,
        "pivotColumns": null,
        "xColumns": null,
        "yColumns": null
       },
       "removedWidgets": [],
       "schema": [
        {
         "metadata": "{}",
         "name": "id",
         "type": "\"long\""
        },
        {
         "metadata": "{}",
         "name": "name",
         "type": "\"string\""
        },
        {
         "metadata": "{}",
         "name": "hp",
         "type": "\"long\""
        },
        {
         "metadata": "{}",
         "name": "attack",
         "type": "\"long\""
        },
        {
         "metadata": "{}",
         "name": "defense",
         "type": "\"long\""
        },
        {
         "metadata": "{}",
         "name": "special-attack",
         "type": "\"long\""
        },
        {
         "metadata": "{}",
         "name": "special-defense",
         "type": "\"long\""
        },
        {
         "metadata": "{}",
         "name": "speed",
         "type": "\"long\""
        },
        {
         "metadata": "{}",
         "name": "total_power",
         "type": "\"long\""
        },
        {
         "metadata": "{}",
         "name": "types",
         "type": "{\"type\":\"array\",\"elementType\":\"string\",\"containsNull\":true}"
        },
        {
         "metadata": "{}",
         "name": "total_attack",
         "type": "\"long\""
        },
        {
         "metadata": "{}",
         "name": "total_defense",
         "type": "\"long\""
        },
        {
         "metadata": "{}",
         "name": "total_physic",
         "type": "\"long\""
        },
        {
         "metadata": "{}",
         "name": "total_special",
         "type": "\"long\""
        }
       ],
       "type": "table"
      }
     },
     "output_type": "display_data"
    },
    {
     "output_type": "display_data",
     "data": {
      "text/html": [
       "<style scoped>\n",
       "  .table-result-container {\n",
       "    max-height: 300px;\n",
       "    overflow: auto;\n",
       "  }\n",
       "  table, th, td {\n",
       "    border: 1px solid black;\n",
       "    border-collapse: collapse;\n",
       "  }\n",
       "  th, td {\n",
       "    padding: 5px;\n",
       "  }\n",
       "  th {\n",
       "    text-align: left;\n",
       "  }\n",
       "</style><div class='table-result-container'><table class='table-result'><thead style='background-color: white'><tr><th>id</th><th>name</th><th>hp</th><th>attack</th><th>defense</th><th>special-attack</th><th>special-defense</th><th>speed</th><th>total_power</th><th>types</th><th>total_attack</th><th>total_defense</th><th>total_physic</th><th>total_special</th></tr></thead><tbody><tr><td>894</td><td>regieleki</td><td>80</td><td>100</td><td>50</td><td>100</td><td>50</td><td>200</td><td>580</td><td>List(electric)</td><td>200</td><td>100</td><td>150</td><td>150</td></tr><tr><td>291</td><td>ninjask</td><td>61</td><td>90</td><td>45</td><td>50</td><td>50</td><td>160</td><td>456</td><td>List(bug, flying)</td><td>140</td><td>95</td><td>135</td><td>100</td></tr><tr><td>795</td><td>pheromosa</td><td>71</td><td>137</td><td>37</td><td>137</td><td>37</td><td>151</td><td>570</td><td>List(bug, fighting)</td><td>274</td><td>74</td><td>174</td><td>174</td></tr><tr><td>386</td><td>deoxys-normal</td><td>50</td><td>150</td><td>50</td><td>150</td><td>50</td><td>150</td><td>600</td><td>List(psychic)</td><td>300</td><td>100</td><td>200</td><td>200</td></tr><tr><td>101</td><td>electrode</td><td>60</td><td>50</td><td>70</td><td>80</td><td>80</td><td>150</td><td>490</td><td>List(electric)</td><td>130</td><td>150</td><td>120</td><td>160</td></tr><tr><td>617</td><td>accelgor</td><td>80</td><td>70</td><td>40</td><td>100</td><td>60</td><td>145</td><td>495</td><td>List(bug)</td><td>170</td><td>100</td><td>110</td><td>160</td></tr><tr><td>807</td><td>zeraora</td><td>88</td><td>112</td><td>75</td><td>102</td><td>80</td><td>143</td><td>600</td><td>List(electric)</td><td>214</td><td>155</td><td>187</td><td>182</td></tr><tr><td>887</td><td>dragapult</td><td>88</td><td>120</td><td>75</td><td>100</td><td>75</td><td>142</td><td>600</td><td>List(dragon, ghost)</td><td>220</td><td>150</td><td>195</td><td>175</td></tr><tr><td>888</td><td>zacian</td><td>92</td><td>120</td><td>115</td><td>80</td><td>115</td><td>138</td><td>660</td><td>List(fairy)</td><td>200</td><td>230</td><td>235</td><td>195</td></tr><tr><td>889</td><td>zamazenta</td><td>92</td><td>120</td><td>115</td><td>80</td><td>115</td><td>138</td><td>660</td><td>List(fighting)</td><td>200</td><td>230</td><td>235</td><td>195</td></tr></tbody></table></div>"
      ]
     },
     "metadata": {
      "application/vnd.databricks.v1+output": {
       "addedWidgets": {},
       "aggData": [],
       "aggError": "",
       "aggOverflow": false,
       "aggSchema": [],
       "aggSeriesLimitReached": false,
       "aggType": "",
       "arguments": {},
       "columnCustomDisplayInfos": {},
       "data": [
        [
         894,
         "regieleki",
         80,
         100,
         50,
         100,
         50,
         200,
         580,
         [
          "electric"
         ],
         200,
         100,
         150,
         150
        ],
        [
         291,
         "ninjask",
         61,
         90,
         45,
         50,
         50,
         160,
         456,
         [
          "bug",
          "flying"
         ],
         140,
         95,
         135,
         100
        ],
        [
         795,
         "pheromosa",
         71,
         137,
         37,
         137,
         37,
         151,
         570,
         [
          "bug",
          "fighting"
         ],
         274,
         74,
         174,
         174
        ],
        [
         386,
         "deoxys-normal",
         50,
         150,
         50,
         150,
         50,
         150,
         600,
         [
          "psychic"
         ],
         300,
         100,
         200,
         200
        ],
        [
         101,
         "electrode",
         60,
         50,
         70,
         80,
         80,
         150,
         490,
         [
          "electric"
         ],
         130,
         150,
         120,
         160
        ],
        [
         617,
         "accelgor",
         80,
         70,
         40,
         100,
         60,
         145,
         495,
         [
          "bug"
         ],
         170,
         100,
         110,
         160
        ],
        [
         807,
         "zeraora",
         88,
         112,
         75,
         102,
         80,
         143,
         600,
         [
          "electric"
         ],
         214,
         155,
         187,
         182
        ],
        [
         887,
         "dragapult",
         88,
         120,
         75,
         100,
         75,
         142,
         600,
         [
          "dragon",
          "ghost"
         ],
         220,
         150,
         195,
         175
        ],
        [
         888,
         "zacian",
         92,
         120,
         115,
         80,
         115,
         138,
         660,
         [
          "fairy"
         ],
         200,
         230,
         235,
         195
        ],
        [
         889,
         "zamazenta",
         92,
         120,
         115,
         80,
         115,
         138,
         660,
         [
          "fighting"
         ],
         200,
         230,
         235,
         195
        ]
       ],
       "datasetInfos": [],
       "dbfsResultPath": null,
       "isJsonSchema": true,
       "metadata": {},
       "overflow": false,
       "plotOptions": {
        "customPlotOptions": {},
        "displayType": "table",
        "pivotAggregation": null,
        "pivotColumns": null,
        "xColumns": null,
        "yColumns": null
       },
       "removedWidgets": [],
       "schema": [
        {
         "metadata": "{}",
         "name": "id",
         "type": "\"long\""
        },
        {
         "metadata": "{}",
         "name": "name",
         "type": "\"string\""
        },
        {
         "metadata": "{}",
         "name": "hp",
         "type": "\"long\""
        },
        {
         "metadata": "{}",
         "name": "attack",
         "type": "\"long\""
        },
        {
         "metadata": "{}",
         "name": "defense",
         "type": "\"long\""
        },
        {
         "metadata": "{}",
         "name": "special-attack",
         "type": "\"long\""
        },
        {
         "metadata": "{}",
         "name": "special-defense",
         "type": "\"long\""
        },
        {
         "metadata": "{}",
         "name": "speed",
         "type": "\"long\""
        },
        {
         "metadata": "{}",
         "name": "total_power",
         "type": "\"long\""
        },
        {
         "metadata": "{}",
         "name": "types",
         "type": "{\"type\":\"array\",\"elementType\":\"string\",\"containsNull\":true}"
        },
        {
         "metadata": "{}",
         "name": "total_attack",
         "type": "\"long\""
        },
        {
         "metadata": "{}",
         "name": "total_defense",
         "type": "\"long\""
        },
        {
         "metadata": "{}",
         "name": "total_physic",
         "type": "\"long\""
        },
        {
         "metadata": "{}",
         "name": "total_special",
         "type": "\"long\""
        }
       ],
       "type": "table"
      }
     },
     "output_type": "display_data"
    }
   ],
   "source": [
    "# Créer une vue\n",
    "df_clean.createOrReplaceTempView(\"pokemon_clean\")\n",
    "\n",
    "# Requête SQL pour classer les Pokémon par la puissance totale\n",
    "top_pokemon = spark.sql(\"\"\"\n",
    "    SELECT id\n",
    "            , name\n",
    "            , hp\n",
    "            , attack\n",
    "            , defense\n",
    "            , `special-attack`\n",
    "            , `special-defense`\n",
    "            , speed\n",
    "            , total_power\n",
    "            , types\n",
    "            , total_attack\n",
    "            , total_defense\n",
    "            , total_physic\n",
    "            , total_special\n",
    "    FROM pokemon_clean\n",
    "    ORDER BY total_power DESC\n",
    "    LIMIT 10\n",
    "\"\"\")\n",
    "\n",
    "display(top_pokemon)\n",
    "\n",
    "# Requête SQL pour classer les Pokémon par l'attaque totale\n",
    "top_pokemon_attack = spark.sql(\"\"\"\n",
    "    SELECT id\n",
    "            , name\n",
    "            , hp\n",
    "            , attack\n",
    "            , defense\n",
    "            , `special-attack`\n",
    "            , `special-defense`\n",
    "            , speed\n",
    "            , total_power\n",
    "            , types\n",
    "            , total_attack\n",
    "            , total_defense\n",
    "            , total_physic\n",
    "            , total_special\n",
    "    FROM pokemon_clean\n",
    "    ORDER BY total_attack DESC\n",
    "    LIMIT 10\n",
    "\"\"\")\n",
    "\n",
    "display(top_pokemon_attack)\n",
    "\n",
    "# Requête SQL pour classer les Pokémon par la défense totale\n",
    "top_pokemon_defense = spark.sql(\"\"\"\n",
    "    SELECT id\n",
    "            , name\n",
    "            , hp\n",
    "            , attack\n",
    "            , defense\n",
    "            , `special-attack`\n",
    "            , `special-defense`\n",
    "            , speed\n",
    "            , total_power\n",
    "            , types\n",
    "            , total_attack\n",
    "            , total_defense\n",
    "            , total_physic\n",
    "            , total_special\n",
    "    FROM pokemon_clean\n",
    "    ORDER BY total_defense DESC\n",
    "    LIMIT 10\n",
    "\"\"\")\n",
    "\n",
    "display(top_pokemon_defense)\n",
    "\n",
    "# Requête SQL pour classer les Pokémon par le physique total\n",
    "top_pokemon_physic = spark.sql(\"\"\"\n",
    "    SELECT id\n",
    "            , name\n",
    "            , hp\n",
    "            , attack\n",
    "            , defense\n",
    "            , `special-attack`\n",
    "            , `special-defense`\n",
    "            , speed\n",
    "            , total_power\n",
    "            , types\n",
    "            , total_attack\n",
    "            , total_defense\n",
    "            , total_physic\n",
    "            , total_special\n",
    "    FROM pokemon_clean\n",
    "    ORDER BY total_physic DESC\n",
    "    LIMIT 10\n",
    "\"\"\")\n",
    "\n",
    "display(top_pokemon_physic)\n",
    "\n",
    "# Requête SQL pour classer les Pokémon par le spécial total\n",
    "top_pokemon_special = spark.sql(\"\"\"\n",
    "    SELECT id\n",
    "            , name\n",
    "            , hp\n",
    "            , attack\n",
    "            , defense\n",
    "            , `special-attack`\n",
    "            , `special-defense`\n",
    "            , speed\n",
    "            , total_power\n",
    "            , types\n",
    "            , total_attack\n",
    "            , total_defense\n",
    "            , total_physic\n",
    "            , total_special\n",
    "    FROM pokemon_clean\n",
    "    ORDER BY total_special DESC\n",
    "    LIMIT 10\n",
    "\"\"\")\n",
    "\n",
    "display(top_pokemon_special)\n",
    "\n",
    "# Requête SQL pour classer les Pokémon par les points de vie\n",
    "top_pokemon_hp = spark.sql(\"\"\"\n",
    "    SELECT id\n",
    "            , name\n",
    "            , hp\n",
    "            , attack\n",
    "            , defense\n",
    "            , `special-attack`\n",
    "            , `special-defense`\n",
    "            , speed\n",
    "            , total_power\n",
    "            , types\n",
    "            , total_attack\n",
    "            , total_defense\n",
    "            , total_physic\n",
    "            , total_special\n",
    "    FROM pokemon_clean\n",
    "    ORDER BY hp DESC\n",
    "    LIMIT 10\n",
    "\"\"\")\n",
    "\n",
    "display(top_pokemon_hp)\n",
    "\n",
    "# Requête SQL pour classer les Pokémon par la vitesse\n",
    "top_pokemon_speed = spark.sql(\"\"\"\n",
    "    SELECT id\n",
    "            , name\n",
    "            , hp\n",
    "            , attack\n",
    "            , defense\n",
    "            , `special-attack`\n",
    "            , `special-defense`\n",
    "            , speed\n",
    "            , total_power\n",
    "            , types\n",
    "            , total_attack\n",
    "            , total_defense\n",
    "            , total_physic\n",
    "            , total_special\n",
    "    FROM pokemon_clean\n",
    "    ORDER BY speed DESC\n",
    "    LIMIT 10\n",
    "\"\"\")\n",
    "\n",
    "display(top_pokemon_speed)"
   ]
  },
  {
   "cell_type": "code",
   "execution_count": 0,
   "metadata": {
    "application/vnd.databricks.v1+cell": {
     "cellMetadata": {
      "byteLimit": 2048000,
      "rowLimit": 10000
     },
     "inputWidgets": {},
     "nuid": "67095b7a-5efd-428d-97d2-11b51cc9f221",
     "showTitle": false,
     "title": ""
    }
   },
   "outputs": [
    {
     "output_type": "display_data",
     "data": {
      "text/html": [
       "<style scoped>\n",
       "  .table-result-container {\n",
       "    max-height: 300px;\n",
       "    overflow: auto;\n",
       "  }\n",
       "  table, th, td {\n",
       "    border: 1px solid black;\n",
       "    border-collapse: collapse;\n",
       "  }\n",
       "  th, td {\n",
       "    padding: 5px;\n",
       "  }\n",
       "  th {\n",
       "    text-align: left;\n",
       "  }\n",
       "</style><div class='table-result-container'><table class='table-result'><thead style='background-color: white'><tr><th>id</th><th>name</th><th>height</th><th>weight</th><th>hp</th><th>attack</th><th>defense</th><th>special-attack</th><th>special-defense</th><th>speed</th><th>types</th><th>total_power</th><th>total_attack</th><th>total_defense</th><th>total_physic</th><th>total_special</th></tr></thead><tbody><tr><td>493</td><td>arceus</td><td>32</td><td>3200</td><td>120</td><td>120</td><td>120</td><td>120</td><td>120</td><td>120</td><td>List(normal)</td><td>720</td><td>240</td><td>240</td><td>240</td><td>240</td></tr><tr><td>890</td><td>eternatus</td><td>200</td><td>9500</td><td>140</td><td>85</td><td>95</td><td>145</td><td>95</td><td>130</td><td>List(poison, dragon)</td><td>690</td><td>230</td><td>190</td><td>180</td><td>240</td></tr><tr><td>250</td><td>ho-oh</td><td>38</td><td>1990</td><td>106</td><td>130</td><td>90</td><td>110</td><td>154</td><td>90</td><td>List(fire, flying)</td><td>680</td><td>240</td><td>244</td><td>220</td><td>264</td></tr><tr><td>150</td><td>mewtwo</td><td>20</td><td>1220</td><td>106</td><td>110</td><td>90</td><td>154</td><td>90</td><td>130</td><td>List(psychic)</td><td>680</td><td>264</td><td>180</td><td>200</td><td>244</td></tr><tr><td>384</td><td>rayquaza</td><td>70</td><td>2065</td><td>105</td><td>150</td><td>90</td><td>150</td><td>90</td><td>95</td><td>List(dragon, flying)</td><td>680</td><td>300</td><td>180</td><td>240</td><td>240</td></tr><tr><td>249</td><td>lugia</td><td>52</td><td>2160</td><td>106</td><td>90</td><td>130</td><td>90</td><td>154</td><td>110</td><td>List(psychic, flying)</td><td>680</td><td>180</td><td>284</td><td>220</td><td>244</td></tr><tr><td>487</td><td>giratina-altered</td><td>45</td><td>7500</td><td>150</td><td>100</td><td>120</td><td>100</td><td>120</td><td>90</td><td>List(ghost, dragon)</td><td>680</td><td>200</td><td>240</td><td>220</td><td>220</td></tr><tr><td>643</td><td>reshiram</td><td>32</td><td>3300</td><td>100</td><td>120</td><td>100</td><td>150</td><td>120</td><td>90</td><td>List(dragon, fire)</td><td>680</td><td>270</td><td>220</td><td>220</td><td>270</td></tr><tr><td>483</td><td>dialga</td><td>54</td><td>6830</td><td>100</td><td>120</td><td>120</td><td>150</td><td>100</td><td>90</td><td>List(steel, dragon)</td><td>680</td><td>270</td><td>220</td><td>240</td><td>250</td></tr><tr><td>484</td><td>palkia</td><td>42</td><td>3360</td><td>90</td><td>120</td><td>100</td><td>150</td><td>120</td><td>100</td><td>List(water, dragon)</td><td>680</td><td>270</td><td>220</td><td>220</td><td>270</td></tr></tbody></table></div>"
      ]
     },
     "metadata": {
      "application/vnd.databricks.v1+output": {
       "addedWidgets": {},
       "aggData": [],
       "aggError": "",
       "aggOverflow": false,
       "aggSchema": [],
       "aggSeriesLimitReached": false,
       "aggType": "",
       "arguments": {},
       "columnCustomDisplayInfos": {},
       "data": [
        [
         493,
         "arceus",
         32,
         3200,
         120,
         120,
         120,
         120,
         120,
         120,
         [
          "normal"
         ],
         720,
         240,
         240,
         240,
         240
        ],
        [
         890,
         "eternatus",
         200,
         9500,
         140,
         85,
         95,
         145,
         95,
         130,
         [
          "poison",
          "dragon"
         ],
         690,
         230,
         190,
         180,
         240
        ],
        [
         250,
         "ho-oh",
         38,
         1990,
         106,
         130,
         90,
         110,
         154,
         90,
         [
          "fire",
          "flying"
         ],
         680,
         240,
         244,
         220,
         264
        ],
        [
         150,
         "mewtwo",
         20,
         1220,
         106,
         110,
         90,
         154,
         90,
         130,
         [
          "psychic"
         ],
         680,
         264,
         180,
         200,
         244
        ],
        [
         384,
         "rayquaza",
         70,
         2065,
         105,
         150,
         90,
         150,
         90,
         95,
         [
          "dragon",
          "flying"
         ],
         680,
         300,
         180,
         240,
         240
        ],
        [
         249,
         "lugia",
         52,
         2160,
         106,
         90,
         130,
         90,
         154,
         110,
         [
          "psychic",
          "flying"
         ],
         680,
         180,
         284,
         220,
         244
        ],
        [
         487,
         "giratina-altered",
         45,
         7500,
         150,
         100,
         120,
         100,
         120,
         90,
         [
          "ghost",
          "dragon"
         ],
         680,
         200,
         240,
         220,
         220
        ],
        [
         643,
         "reshiram",
         32,
         3300,
         100,
         120,
         100,
         150,
         120,
         90,
         [
          "dragon",
          "fire"
         ],
         680,
         270,
         220,
         220,
         270
        ],
        [
         483,
         "dialga",
         54,
         6830,
         100,
         120,
         120,
         150,
         100,
         90,
         [
          "steel",
          "dragon"
         ],
         680,
         270,
         220,
         240,
         250
        ],
        [
         484,
         "palkia",
         42,
         3360,
         90,
         120,
         100,
         150,
         120,
         100,
         [
          "water",
          "dragon"
         ],
         680,
         270,
         220,
         220,
         270
        ]
       ],
       "datasetInfos": [],
       "dbfsResultPath": null,
       "isJsonSchema": true,
       "metadata": {},
       "overflow": false,
       "plotOptions": {
        "customPlotOptions": {},
        "displayType": "table",
        "pivotAggregation": null,
        "pivotColumns": null,
        "xColumns": null,
        "yColumns": null
       },
       "removedWidgets": [],
       "schema": [
        {
         "metadata": "{}",
         "name": "id",
         "type": "\"long\""
        },
        {
         "metadata": "{}",
         "name": "name",
         "type": "\"string\""
        },
        {
         "metadata": "{}",
         "name": "height",
         "type": "\"long\""
        },
        {
         "metadata": "{}",
         "name": "weight",
         "type": "\"long\""
        },
        {
         "metadata": "{}",
         "name": "hp",
         "type": "\"long\""
        },
        {
         "metadata": "{}",
         "name": "attack",
         "type": "\"long\""
        },
        {
         "metadata": "{}",
         "name": "defense",
         "type": "\"long\""
        },
        {
         "metadata": "{}",
         "name": "special-attack",
         "type": "\"long\""
        },
        {
         "metadata": "{}",
         "name": "special-defense",
         "type": "\"long\""
        },
        {
         "metadata": "{}",
         "name": "speed",
         "type": "\"long\""
        },
        {
         "metadata": "{}",
         "name": "types",
         "type": "{\"type\":\"array\",\"elementType\":\"string\",\"containsNull\":true}"
        },
        {
         "metadata": "{}",
         "name": "total_power",
         "type": "\"long\""
        },
        {
         "metadata": "{}",
         "name": "total_attack",
         "type": "\"long\""
        },
        {
         "metadata": "{}",
         "name": "total_defense",
         "type": "\"long\""
        },
        {
         "metadata": "{}",
         "name": "total_physic",
         "type": "\"long\""
        },
        {
         "metadata": "{}",
         "name": "total_special",
         "type": "\"long\""
        }
       ],
       "type": "table"
      }
     },
     "output_type": "display_data"
    }
   ],
   "source": [
    "# Trier les Pokémon par puissance totale décroissante et sélectionner les 10 premiers\n",
    "top_pokemon_total_power_df = df_clean.orderBy(df_clean.total_power.desc()).limit(10)\n",
    "display(top_pokemon_total_power_df)"
   ]
  },
  {
   "cell_type": "code",
   "execution_count": 0,
   "metadata": {
    "application/vnd.databricks.v1+cell": {
     "cellMetadata": {
      "byteLimit": 2048000,
      "rowLimit": 10000
     },
     "inputWidgets": {},
     "nuid": "c8e0d1bb-890e-4393-b8f6-d5262d9816b2",
     "showTitle": false,
     "title": ""
    }
   },
   "outputs": [
    {
     "output_type": "display_data",
     "data": {
      "image/png": "[encoded data removed]",
      "text/plain": [
       "<Figure size 1200x600 with 1 Axes>"
      ]
     },
     "metadata": {},
     "output_type": "display_data"
    }
   ],
   "source": [
    "# Convertir Spark DataFrame en Pandas\n",
    "top_pokemon_total_power_pd = top_pokemon_total_power_df.toPandas()\n",
    "\n",
    "# Bar chart des top 10 Pokémon par puissance totale\n",
    "plt.figure(figsize=(12, 6))\n",
    "plt.bar(top_pokemon_total_power_pd['name'], top_pokemon_total_power_pd['total_power'], color='skyblue')\n",
    "plt.title('Top 10 Pokémon par puissance totale')\n",
    "plt.xlabel('Pokémon')\n",
    "plt.ylabel('Puissance totale')\n",
    "plt.xticks(rotation=45)\n",
    "plt.show()"
   ]
  },
  {
   "cell_type": "code",
   "execution_count": 0,
   "metadata": {
    "application/vnd.databricks.v1+cell": {
     "cellMetadata": {
      "byteLimit": 2048000,
      "rowLimit": 10000
     },
     "inputWidgets": {},
     "nuid": "c491cce1-1c10-4ed7-9649-8b82b1082f8b",
     "showTitle": false,
     "title": ""
    }
   },
   "outputs": [
    {
     "output_type": "display_data",
     "data": {
      "text/html": [
       "<style scoped>\n",
       "  .table-result-container {\n",
       "    max-height: 300px;\n",
       "    overflow: auto;\n",
       "  }\n",
       "  table, th, td {\n",
       "    border: 1px solid black;\n",
       "    border-collapse: collapse;\n",
       "  }\n",
       "  th, td {\n",
       "    padding: 5px;\n",
       "  }\n",
       "  th {\n",
       "    text-align: left;\n",
       "  }\n",
       "</style><div class='table-result-container'><table class='table-result'><thead style='background-color: white'><tr><th>id</th><th>name</th><th>height</th><th>weight</th><th>hp</th><th>attack</th><th>defense</th><th>special-attack</th><th>special-defense</th><th>speed</th><th>types</th><th>total_power</th><th>total_attack</th><th>total_defense</th><th>total_physic</th><th>total_special</th></tr></thead><tbody><tr><td>384</td><td>rayquaza</td><td>70</td><td>2065</td><td>105</td><td>150</td><td>90</td><td>150</td><td>90</td><td>95</td><td>List(dragon, flying)</td><td>680</td><td>300</td><td>180</td><td>240</td><td>240</td></tr><tr><td>386</td><td>deoxys-normal</td><td>17</td><td>608</td><td>50</td><td>150</td><td>50</td><td>150</td><td>50</td><td>150</td><td>List(psychic)</td><td>600</td><td>300</td><td>100</td><td>200</td><td>200</td></tr><tr><td>806</td><td>blacephalon</td><td>18</td><td>130</td><td>53</td><td>127</td><td>53</td><td>151</td><td>79</td><td>107</td><td>List(fire, ghost)</td><td>570</td><td>278</td><td>132</td><td>180</td><td>230</td></tr><tr><td>795</td><td>pheromosa</td><td>18</td><td>250</td><td>71</td><td>137</td><td>37</td><td>137</td><td>37</td><td>151</td><td>List(bug, fighting)</td><td>570</td><td>274</td><td>74</td><td>174</td><td>174</td></tr><tr><td>644</td><td>zekrom</td><td>29</td><td>3450</td><td>100</td><td>150</td><td>120</td><td>120</td><td>100</td><td>90</td><td>List(dragon, electric)</td><td>680</td><td>270</td><td>220</td><td>270</td><td>220</td></tr><tr><td>484</td><td>palkia</td><td>42</td><td>3360</td><td>90</td><td>120</td><td>100</td><td>150</td><td>120</td><td>100</td><td>List(water, dragon)</td><td>680</td><td>270</td><td>220</td><td>220</td><td>270</td></tr><tr><td>643</td><td>reshiram</td><td>32</td><td>3300</td><td>100</td><td>120</td><td>100</td><td>150</td><td>120</td><td>90</td><td>List(dragon, fire)</td><td>680</td><td>270</td><td>220</td><td>220</td><td>270</td></tr><tr><td>483</td><td>dialga</td><td>54</td><td>6830</td><td>100</td><td>120</td><td>120</td><td>150</td><td>100</td><td>90</td><td>List(steel, dragon)</td><td>680</td><td>270</td><td>220</td><td>240</td><td>250</td></tr><tr><td>150</td><td>mewtwo</td><td>20</td><td>1220</td><td>106</td><td>110</td><td>90</td><td>154</td><td>90</td><td>130</td><td>List(psychic)</td><td>680</td><td>264</td><td>180</td><td>200</td><td>244</td></tr><tr><td>716</td><td>xerneas</td><td>30</td><td>2150</td><td>126</td><td>131</td><td>95</td><td>131</td><td>98</td><td>99</td><td>List(fairy)</td><td>680</td><td>262</td><td>193</td><td>226</td><td>229</td></tr></tbody></table></div>"
      ]
     },
     "metadata": {
      "application/vnd.databricks.v1+output": {
       "addedWidgets": {},
       "aggData": [],
       "aggError": "",
       "aggOverflow": false,
       "aggSchema": [],
       "aggSeriesLimitReached": false,
       "aggType": "",
       "arguments": {},
       "columnCustomDisplayInfos": {},
       "data": [
        [
         384,
         "rayquaza",
         70,
         2065,
         105,
         150,
         90,
         150,
         90,
         95,
         [
          "dragon",
          "flying"
         ],
         680,
         300,
         180,
         240,
         240
        ],
        [
         386,
         "deoxys-normal",
         17,
         608,
         50,
         150,
         50,
         150,
         50,
         150,
         [
          "psychic"
         ],
         600,
         300,
         100,
         200,
         200
        ],
        [
         806,
         "blacephalon",
         18,
         130,
         53,
         127,
         53,
         151,
         79,
         107,
         [
          "fire",
          "ghost"
         ],
         570,
         278,
         132,
         180,
         230
        ],
        [
         795,
         "pheromosa",
         18,
         250,
         71,
         137,
         37,
         137,
         37,
         151,
         [
          "bug",
          "fighting"
         ],
         570,
         274,
         74,
         174,
         174
        ],
        [
         644,
         "zekrom",
         29,
         3450,
         100,
         150,
         120,
         120,
         100,
         90,
         [
          "dragon",
          "electric"
         ],
         680,
         270,
         220,
         270,
         220
        ],
        [
         484,
         "palkia",
         42,
         3360,
         90,
         120,
         100,
         150,
         120,
         100,
         [
          "water",
          "dragon"
         ],
         680,
         270,
         220,
         220,
         270
        ],
        [
         643,
         "reshiram",
         32,
         3300,
         100,
         120,
         100,
         150,
         120,
         90,
         [
          "dragon",
          "fire"
         ],
         680,
         270,
         220,
         220,
         270
        ],
        [
         483,
         "dialga",
         54,
         6830,
         100,
         120,
         120,
         150,
         100,
         90,
         [
          "steel",
          "dragon"
         ],
         680,
         270,
         220,
         240,
         250
        ],
        [
         150,
         "mewtwo",
         20,
         1220,
         106,
         110,
         90,
         154,
         90,
         130,
         [
          "psychic"
         ],
         680,
         264,
         180,
         200,
         244
        ],
        [
         716,
         "xerneas",
         30,
         2150,
         126,
         131,
         95,
         131,
         98,
         99,
         [
          "fairy"
         ],
         680,
         262,
         193,
         226,
         229
        ]
       ],
       "datasetInfos": [],
       "dbfsResultPath": null,
       "isJsonSchema": true,
       "metadata": {},
       "overflow": false,
       "plotOptions": {
        "customPlotOptions": {},
        "displayType": "table",
        "pivotAggregation": null,
        "pivotColumns": null,
        "xColumns": null,
        "yColumns": null
       },
       "removedWidgets": [],
       "schema": [
        {
         "metadata": "{}",
         "name": "id",
         "type": "\"long\""
        },
        {
         "metadata": "{}",
         "name": "name",
         "type": "\"string\""
        },
        {
         "metadata": "{}",
         "name": "height",
         "type": "\"long\""
        },
        {
         "metadata": "{}",
         "name": "weight",
         "type": "\"long\""
        },
        {
         "metadata": "{}",
         "name": "hp",
         "type": "\"long\""
        },
        {
         "metadata": "{}",
         "name": "attack",
         "type": "\"long\""
        },
        {
         "metadata": "{}",
         "name": "defense",
         "type": "\"long\""
        },
        {
         "metadata": "{}",
         "name": "special-attack",
         "type": "\"long\""
        },
        {
         "metadata": "{}",
         "name": "special-defense",
         "type": "\"long\""
        },
        {
         "metadata": "{}",
         "name": "speed",
         "type": "\"long\""
        },
        {
         "metadata": "{}",
         "name": "types",
         "type": "{\"type\":\"array\",\"elementType\":\"string\",\"containsNull\":true}"
        },
        {
         "metadata": "{}",
         "name": "total_power",
         "type": "\"long\""
        },
        {
         "metadata": "{}",
         "name": "total_attack",
         "type": "\"long\""
        },
        {
         "metadata": "{}",
         "name": "total_defense",
         "type": "\"long\""
        },
        {
         "metadata": "{}",
         "name": "total_physic",
         "type": "\"long\""
        },
        {
         "metadata": "{}",
         "name": "total_special",
         "type": "\"long\""
        }
       ],
       "type": "table"
      }
     },
     "output_type": "display_data"
    }
   ],
   "source": [
    "# Trier les Pokémon par attaque totale décroissante et sélectionner les 10 premiers\n",
    "top_pokemon_total_attack_df = df_clean.orderBy(df_clean.total_attack.desc()).limit(10)\n",
    "display(top_pokemon_total_attack_df)"
   ]
  },
  {
   "cell_type": "code",
   "execution_count": 0,
   "metadata": {
    "application/vnd.databricks.v1+cell": {
     "cellMetadata": {
      "byteLimit": 2048000,
      "rowLimit": 10000
     },
     "inputWidgets": {},
     "nuid": "d5942cec-0465-4616-9d3f-2e1f1b6cfb7d",
     "showTitle": false,
     "title": ""
    }
   },
   "outputs": [
    {
     "output_type": "display_data",
     "data": {
      "image/png": "[encoded data removed]",
      "text/plain": [
       "<Figure size 1200x600 with 1 Axes>"
      ]
     },
     "metadata": {},
     "output_type": "display_data"
    }
   ],
   "source": [
    "# Convertir Spark DataFrame en Pandas\n",
    "top_pokemon_total_attack_pd = top_pokemon_total_attack_df.toPandas()\n",
    "\n",
    "# Bar chart des top 10 Pokémon par attaque totale\n",
    "plt.figure(figsize=(12, 6))\n",
    "plt.bar(top_pokemon_total_attack_pd['name'], top_pokemon_total_attack_pd['total_attack'], color='skyblue')\n",
    "plt.title('Top 10 Pokémon par attaque totale')\n",
    "plt.xlabel('Pokémon')\n",
    "plt.ylabel('Attaque totale')\n",
    "plt.xticks(rotation=45)\n",
    "plt.show()"
   ]
  },
  {
   "cell_type": "code",
   "execution_count": 0,
   "metadata": {
    "application/vnd.databricks.v1+cell": {
     "cellMetadata": {
      "byteLimit": 2048000,
      "rowLimit": 10000
     },
     "inputWidgets": {},
     "nuid": "9f9b88e7-b39b-49b4-b57d-5a396bcafa8f",
     "showTitle": false,
     "title": ""
    }
   },
   "outputs": [
    {
     "output_type": "display_data",
     "data": {
      "text/html": [
       "<style scoped>\n",
       "  .table-result-container {\n",
       "    max-height: 300px;\n",
       "    overflow: auto;\n",
       "  }\n",
       "  table, th, td {\n",
       "    border: 1px solid black;\n",
       "    border-collapse: collapse;\n",
       "  }\n",
       "  th, td {\n",
       "    padding: 5px;\n",
       "  }\n",
       "  th {\n",
       "    text-align: left;\n",
       "  }\n",
       "</style><div class='table-result-container'><table class='table-result'><thead style='background-color: white'><tr><th>id</th><th>name</th><th>height</th><th>weight</th><th>hp</th><th>attack</th><th>defense</th><th>special-attack</th><th>special-defense</th><th>speed</th><th>types</th><th>total_power</th><th>total_attack</th><th>total_defense</th><th>total_physic</th><th>total_special</th></tr></thead><tbody><tr><td>213</td><td>shuckle</td><td>6</td><td>205</td><td>20</td><td>10</td><td>230</td><td>10</td><td>230</td><td>5</td><td>List(bug, rock)</td><td>505</td><td>20</td><td>460</td><td>240</td><td>240</td></tr><tr><td>805</td><td>stakataka</td><td>55</td><td>8200</td><td>61</td><td>131</td><td>211</td><td>53</td><td>101</td><td>13</td><td>List(rock, steel)</td><td>570</td><td>184</td><td>312</td><td>342</td><td>154</td></tr><tr><td>411</td><td>bastiodon</td><td>13</td><td>1495</td><td>60</td><td>52</td><td>168</td><td>47</td><td>138</td><td>30</td><td>List(rock, steel)</td><td>495</td><td>99</td><td>306</td><td>220</td><td>185</td></tr><tr><td>377</td><td>regirock</td><td>17</td><td>2300</td><td>80</td><td>100</td><td>200</td><td>50</td><td>100</td><td>50</td><td>List(rock)</td><td>580</td><td>150</td><td>300</td><td>300</td><td>150</td></tr><tr><td>719</td><td>diancie</td><td>7</td><td>88</td><td>50</td><td>100</td><td>150</td><td>100</td><td>150</td><td>50</td><td>List(rock, fairy)</td><td>600</td><td>200</td><td>300</td><td>250</td><td>250</td></tr><tr><td>703</td><td>carbink</td><td>3</td><td>57</td><td>50</td><td>50</td><td>150</td><td>50</td><td>150</td><td>50</td><td>List(rock, fairy)</td><td>500</td><td>100</td><td>300</td><td>200</td><td>200</td></tr><tr><td>379</td><td>registeel</td><td>19</td><td>2050</td><td>80</td><td>75</td><td>150</td><td>75</td><td>150</td><td>50</td><td>List(steel)</td><td>580</td><td>150</td><td>300</td><td>225</td><td>225</td></tr><tr><td>378</td><td>regice</td><td>18</td><td>1750</td><td>80</td><td>50</td><td>100</td><td>100</td><td>200</td><td>50</td><td>List(ice)</td><td>580</td><td>150</td><td>300</td><td>150</td><td>300</td></tr><tr><td>476</td><td>probopass</td><td>14</td><td>3400</td><td>60</td><td>55</td><td>145</td><td>75</td><td>150</td><td>40</td><td>List(rock, steel)</td><td>525</td><td>130</td><td>295</td><td>200</td><td>225</td></tr><tr><td>748</td><td>toxapex</td><td>7</td><td>145</td><td>50</td><td>63</td><td>152</td><td>53</td><td>142</td><td>35</td><td>List(poison, water)</td><td>495</td><td>116</td><td>294</td><td>215</td><td>195</td></tr></tbody></table></div>"
      ]
     },
     "metadata": {
      "application/vnd.databricks.v1+output": {
       "addedWidgets": {},
       "aggData": [],
       "aggError": "",
       "aggOverflow": false,
       "aggSchema": [],
       "aggSeriesLimitReached": false,
       "aggType": "",
       "arguments": {},
       "columnCustomDisplayInfos": {},
       "data": [
        [
         213,
         "shuckle",
         6,
         205,
         20,
         10,
         230,
         10,
         230,
         5,
         [
          "bug",
          "rock"
         ],
         505,
         20,
         460,
         240,
         240
        ],
        [
         805,
         "stakataka",
         55,
         8200,
         61,
         131,
         211,
         53,
         101,
         13,
         [
          "rock",
          "steel"
         ],
         570,
         184,
         312,
         342,
         154
        ],
        [
         411,
         "bastiodon",
         13,
         1495,
         60,
         52,
         168,
         47,
         138,
         30,
         [
          "rock",
          "steel"
         ],
         495,
         99,
         306,
         220,
         185
        ],
        [
         377,
         "regirock",
         17,
         2300,
         80,
         100,
         200,
         50,
         100,
         50,
         [
          "rock"
         ],
         580,
         150,
         300,
         300,
         150
        ],
        [
         719,
         "diancie",
         7,
         88,
         50,
         100,
         150,
         100,
         150,
         50,
         [
          "rock",
          "fairy"
         ],
         600,
         200,
         300,
         250,
         250
        ],
        [
         703,
         "carbink",
         3,
         57,
         50,
         50,
         150,
         50,
         150,
         50,
         [
          "rock",
          "fairy"
         ],
         500,
         100,
         300,
         200,
         200
        ],
        [
         379,
         "registeel",
         19,
         2050,
         80,
         75,
         150,
         75,
         150,
         50,
         [
          "steel"
         ],
         580,
         150,
         300,
         225,
         225
        ],
        [
         378,
         "regice",
         18,
         1750,
         80,
         50,
         100,
         100,
         200,
         50,
         [
          "ice"
         ],
         580,
         150,
         300,
         150,
         300
        ],
        [
         476,
         "probopass",
         14,
         3400,
         60,
         55,
         145,
         75,
         150,
         40,
         [
          "rock",
          "steel"
         ],
         525,
         130,
         295,
         200,
         225
        ],
        [
         748,
         "toxapex",
         7,
         145,
         50,
         63,
         152,
         53,
         142,
         35,
         [
          "poison",
          "water"
         ],
         495,
         116,
         294,
         215,
         195
        ]
       ],
       "datasetInfos": [],
       "dbfsResultPath": null,
       "isJsonSchema": true,
       "metadata": {},
       "overflow": false,
       "plotOptions": {
        "customPlotOptions": {},
        "displayType": "table",
        "pivotAggregation": null,
        "pivotColumns": null,
        "xColumns": null,
        "yColumns": null
       },
       "removedWidgets": [],
       "schema": [
        {
         "metadata": "{}",
         "name": "id",
         "type": "\"long\""
        },
        {
         "metadata": "{}",
         "name": "name",
         "type": "\"string\""
        },
        {
         "metadata": "{}",
         "name": "height",
         "type": "\"long\""
        },
        {
         "metadata": "{}",
         "name": "weight",
         "type": "\"long\""
        },
        {
         "metadata": "{}",
         "name": "hp",
         "type": "\"long\""
        },
        {
         "metadata": "{}",
         "name": "attack",
         "type": "\"long\""
        },
        {
         "metadata": "{}",
         "name": "defense",
         "type": "\"long\""
        },
        {
         "metadata": "{}",
         "name": "special-attack",
         "type": "\"long\""
        },
        {
         "metadata": "{}",
         "name": "special-defense",
         "type": "\"long\""
        },
        {
         "metadata": "{}",
         "name": "speed",
         "type": "\"long\""
        },
        {
         "metadata": "{}",
         "name": "types",
         "type": "{\"type\":\"array\",\"elementType\":\"string\",\"containsNull\":true}"
        },
        {
         "metadata": "{}",
         "name": "total_power",
         "type": "\"long\""
        },
        {
         "metadata": "{}",
         "name": "total_attack",
         "type": "\"long\""
        },
        {
         "metadata": "{}",
         "name": "total_defense",
         "type": "\"long\""
        },
        {
         "metadata": "{}",
         "name": "total_physic",
         "type": "\"long\""
        },
        {
         "metadata": "{}",
         "name": "total_special",
         "type": "\"long\""
        }
       ],
       "type": "table"
      }
     },
     "output_type": "display_data"
    }
   ],
   "source": [
    "# Trier les Pokémon par défense totale décroissante et sélectionner les 10 premiers\n",
    "top_pokemon_total_defense_df = df_clean.orderBy(df_clean.total_defense.desc()).limit(10)\n",
    "display(top_pokemon_total_defense_df)"
   ]
  },
  {
   "cell_type": "code",
   "execution_count": 0,
   "metadata": {
    "application/vnd.databricks.v1+cell": {
     "cellMetadata": {
      "byteLimit": 2048000,
      "rowLimit": 10000
     },
     "inputWidgets": {},
     "nuid": "be45b2a3-3dd1-4725-9342-ba22894287ce",
     "showTitle": false,
     "title": ""
    }
   },
   "outputs": [
    {
     "output_type": "display_data",
     "data": {
      "image/png": "[encoded data removed]",
      "text/plain": [
       "<Figure size 1200x600 with 1 Axes>"
      ]
     },
     "metadata": {},
     "output_type": "display_data"
    }
   ],
   "source": [
    "# Convertir Spark DataFrame en Pandas\n",
    "top_pokemon_total_defense_pd = top_pokemon_total_defense_df.toPandas()\n",
    "\n",
    "# Bar chart des top 10 Pokémon par défense totale\n",
    "plt.figure(figsize=(12, 6))\n",
    "plt.bar(top_pokemon_total_defense_pd['name'], top_pokemon_total_defense_pd['total_defense'], color='skyblue')\n",
    "plt.title('Top 10 Pokémon par défense totale')\n",
    "plt.xlabel('Pokémon')\n",
    "plt.ylabel('Défense totale')\n",
    "plt.xticks(rotation=45)\n",
    "plt.show()"
   ]
  },
  {
   "cell_type": "code",
   "execution_count": 0,
   "metadata": {
    "application/vnd.databricks.v1+cell": {
     "cellMetadata": {
      "byteLimit": 2048000,
      "rowLimit": 10000
     },
     "inputWidgets": {},
     "nuid": "c4675487-bbfd-48b9-916d-6c92eb335c04",
     "showTitle": false,
     "title": ""
    }
   },
   "outputs": [
    {
     "output_type": "display_data",
     "data": {
      "text/html": [
       "<style scoped>\n",
       "  .table-result-container {\n",
       "    max-height: 300px;\n",
       "    overflow: auto;\n",
       "  }\n",
       "  table, th, td {\n",
       "    border: 1px solid black;\n",
       "    border-collapse: collapse;\n",
       "  }\n",
       "  th, td {\n",
       "    padding: 5px;\n",
       "  }\n",
       "  th {\n",
       "    text-align: left;\n",
       "  }\n",
       "</style><div class='table-result-container'><table class='table-result'><thead style='background-color: white'><tr><th>id</th><th>name</th><th>height</th><th>weight</th><th>hp</th><th>attack</th><th>defense</th><th>special-attack</th><th>special-defense</th><th>speed</th><th>types</th><th>total_power</th><th>total_attack</th><th>total_defense</th><th>total_physic</th><th>total_special</th></tr></thead><tbody><tr><td>805</td><td>stakataka</td><td>55</td><td>8200</td><td>61</td><td>131</td><td>211</td><td>53</td><td>101</td><td>13</td><td>List(rock, steel)</td><td>570</td><td>184</td><td>312</td><td>342</td><td>154</td></tr><tr><td>798</td><td>kartana</td><td>3</td><td>1</td><td>59</td><td>181</td><td>131</td><td>59</td><td>31</td><td>109</td><td>List(grass, steel)</td><td>570</td><td>240</td><td>162</td><td>312</td><td>90</td></tr><tr><td>713</td><td>avalugg</td><td>20</td><td>5050</td><td>95</td><td>117</td><td>184</td><td>44</td><td>46</td><td>28</td><td>List(ice)</td><td>514</td><td>161</td><td>230</td><td>301</td><td>90</td></tr><tr><td>377</td><td>regirock</td><td>17</td><td>2300</td><td>80</td><td>100</td><td>200</td><td>50</td><td>100</td><td>50</td><td>List(rock)</td><td>580</td><td>150</td><td>300</td><td>300</td><td>150</td></tr><tr><td>306</td><td>aggron</td><td>21</td><td>3600</td><td>70</td><td>110</td><td>180</td><td>60</td><td>60</td><td>50</td><td>List(steel, rock)</td><td>530</td><td>170</td><td>240</td><td>290</td><td>120</td></tr><tr><td>383</td><td>groudon</td><td>35</td><td>9500</td><td>100</td><td>150</td><td>140</td><td>100</td><td>90</td><td>90</td><td>List(ground)</td><td>670</td><td>250</td><td>230</td><td>290</td><td>190</td></tr><tr><td>809</td><td>melmetal</td><td>25</td><td>8000</td><td>135</td><td>143</td><td>143</td><td>80</td><td>65</td><td>34</td><td>List(steel)</td><td>600</td><td>223</td><td>208</td><td>286</td><td>145</td></tr><tr><td>208</td><td>steelix</td><td>92</td><td>4000</td><td>75</td><td>85</td><td>200</td><td>55</td><td>65</td><td>30</td><td>List(steel, ground)</td><td>510</td><td>140</td><td>265</td><td>285</td><td>120</td></tr><tr><td>794</td><td>buzzwole</td><td>24</td><td>3336</td><td>107</td><td>139</td><td>139</td><td>53</td><td>53</td><td>79</td><td>List(bug, fighting)</td><td>570</td><td>192</td><td>192</td><td>278</td><td>106</td></tr><tr><td>91</td><td>cloyster</td><td>15</td><td>1325</td><td>50</td><td>95</td><td>180</td><td>85</td><td>45</td><td>70</td><td>List(water, ice)</td><td>525</td><td>180</td><td>225</td><td>275</td><td>130</td></tr></tbody></table></div>"
      ]
     },
     "metadata": {
      "application/vnd.databricks.v1+output": {
       "addedWidgets": {},
       "aggData": [],
       "aggError": "",
       "aggOverflow": false,
       "aggSchema": [],
       "aggSeriesLimitReached": false,
       "aggType": "",
       "arguments": {},
       "columnCustomDisplayInfos": {},
       "data": [
        [
         805,
         "stakataka",
         55,
         8200,
         61,
         131,
         211,
         53,
         101,
         13,
         [
          "rock",
          "steel"
         ],
         570,
         184,
         312,
         342,
         154
        ],
        [
         798,
         "kartana",
         3,
         1,
         59,
         181,
         131,
         59,
         31,
         109,
         [
          "grass",
          "steel"
         ],
         570,
         240,
         162,
         312,
         90
        ],
        [
         713,
         "avalugg",
         20,
         5050,
         95,
         117,
         184,
         44,
         46,
         28,
         [
          "ice"
         ],
         514,
         161,
         230,
         301,
         90
        ],
        [
         377,
         "regirock",
         17,
         2300,
         80,
         100,
         200,
         50,
         100,
         50,
         [
          "rock"
         ],
         580,
         150,
         300,
         300,
         150
        ],
        [
         306,
         "aggron",
         21,
         3600,
         70,
         110,
         180,
         60,
         60,
         50,
         [
          "steel",
          "rock"
         ],
         530,
         170,
         240,
         290,
         120
        ],
        [
         383,
         "groudon",
         35,
         9500,
         100,
         150,
         140,
         100,
         90,
         90,
         [
          "ground"
         ],
         670,
         250,
         230,
         290,
         190
        ],
        [
         809,
         "melmetal",
         25,
         8000,
         135,
         143,
         143,
         80,
         65,
         34,
         [
          "steel"
         ],
         600,
         223,
         208,
         286,
         145
        ],
        [
         208,
         "steelix",
         92,
         4000,
         75,
         85,
         200,
         55,
         65,
         30,
         [
          "steel",
          "ground"
         ],
         510,
         140,
         265,
         285,
         120
        ],
        [
         794,
         "buzzwole",
         24,
         3336,
         107,
         139,
         139,
         53,
         53,
         79,
         [
          "bug",
          "fighting"
         ],
         570,
         192,
         192,
         278,
         106
        ],
        [
         91,
         "cloyster",
         15,
         1325,
         50,
         95,
         180,
         85,
         45,
         70,
         [
          "water",
          "ice"
         ],
         525,
         180,
         225,
         275,
         130
        ]
       ],
       "datasetInfos": [],
       "dbfsResultPath": null,
       "isJsonSchema": true,
       "metadata": {},
       "overflow": false,
       "plotOptions": {
        "customPlotOptions": {},
        "displayType": "table",
        "pivotAggregation": null,
        "pivotColumns": null,
        "xColumns": null,
        "yColumns": null
       },
       "removedWidgets": [],
       "schema": [
        {
         "metadata": "{}",
         "name": "id",
         "type": "\"long\""
        },
        {
         "metadata": "{}",
         "name": "name",
         "type": "\"string\""
        },
        {
         "metadata": "{}",
         "name": "height",
         "type": "\"long\""
        },
        {
         "metadata": "{}",
         "name": "weight",
         "type": "\"long\""
        },
        {
         "metadata": "{}",
         "name": "hp",
         "type": "\"long\""
        },
        {
         "metadata": "{}",
         "name": "attack",
         "type": "\"long\""
        },
        {
         "metadata": "{}",
         "name": "defense",
         "type": "\"long\""
        },
        {
         "metadata": "{}",
         "name": "special-attack",
         "type": "\"long\""
        },
        {
         "metadata": "{}",
         "name": "special-defense",
         "type": "\"long\""
        },
        {
         "metadata": "{}",
         "name": "speed",
         "type": "\"long\""
        },
        {
         "metadata": "{}",
         "name": "types",
         "type": "{\"type\":\"array\",\"elementType\":\"string\",\"containsNull\":true}"
        },
        {
         "metadata": "{}",
         "name": "total_power",
         "type": "\"long\""
        },
        {
         "metadata": "{}",
         "name": "total_attack",
         "type": "\"long\""
        },
        {
         "metadata": "{}",
         "name": "total_defense",
         "type": "\"long\""
        },
        {
         "metadata": "{}",
         "name": "total_physic",
         "type": "\"long\""
        },
        {
         "metadata": "{}",
         "name": "total_special",
         "type": "\"long\""
        }
       ],
       "type": "table"
      }
     },
     "output_type": "display_data"
    }
   ],
   "source": [
    "# Trier les Pokémon par le physique total décroissant et sélectionner les 10 premiers\n",
    "top_pokemon_total_physic_df = df_clean.orderBy(df_clean.total_physic.desc()).limit(10)\n",
    "display(top_pokemon_total_physic_df)"
   ]
  },
  {
   "cell_type": "code",
   "execution_count": 0,
   "metadata": {
    "application/vnd.databricks.v1+cell": {
     "cellMetadata": {
      "byteLimit": 2048000,
      "rowLimit": 10000
     },
     "inputWidgets": {},
     "nuid": "c69813cc-37bc-4604-9d1b-0e35c8a49c25",
     "showTitle": false,
     "title": ""
    }
   },
   "outputs": [
    {
     "output_type": "display_data",
     "data": {
      "image/png": "[encoded data removed]",
      "text/plain": [
       "<Figure size 1200x600 with 1 Axes>"
      ]
     },
     "metadata": {},
     "output_type": "display_data"
    }
   ],
   "source": [
    "# Convertir Spark DataFrame en Pandas\n",
    "top_pokemon_total_physic_pd = top_pokemon_total_physic_df.toPandas()\n",
    "\n",
    "# Bar chart des top 10 Pokémon par pysique\n",
    "plt.figure(figsize=(12, 6))\n",
    "plt.bar(top_pokemon_total_physic_pd['name'], top_pokemon_total_physic_pd['total_physic'], color='skyblue')\n",
    "plt.title('Top 10 Pokémon par physique')\n",
    "plt.xlabel('Pokémon')\n",
    "plt.ylabel('Physique totale')\n",
    "plt.xticks(rotation=45)\n",
    "plt.show()"
   ]
  },
  {
   "cell_type": "code",
   "execution_count": 0,
   "metadata": {
    "application/vnd.databricks.v1+cell": {
     "cellMetadata": {
      "byteLimit": 2048000,
      "rowLimit": 10000
     },
     "inputWidgets": {},
     "nuid": "24943331-5705-4181-87b1-072573f598c1",
     "showTitle": false,
     "title": ""
    }
   },
   "outputs": [
    {
     "output_type": "display_data",
     "data": {
      "text/html": [
       "<style scoped>\n",
       "  .table-result-container {\n",
       "    max-height: 300px;\n",
       "    overflow: auto;\n",
       "  }\n",
       "  table, th, td {\n",
       "    border: 1px solid black;\n",
       "    border-collapse: collapse;\n",
       "  }\n",
       "  th, td {\n",
       "    padding: 5px;\n",
       "  }\n",
       "  th {\n",
       "    text-align: left;\n",
       "  }\n",
       "</style><div class='table-result-container'><table class='table-result'><thead style='background-color: white'><tr><th>id</th><th>name</th><th>height</th><th>weight</th><th>hp</th><th>attack</th><th>defense</th><th>special-attack</th><th>special-defense</th><th>speed</th><th>types</th><th>total_power</th><th>total_attack</th><th>total_defense</th><th>total_physic</th><th>total_special</th></tr></thead><tbody><tr><td>378</td><td>regice</td><td>18</td><td>1750</td><td>80</td><td>50</td><td>100</td><td>100</td><td>200</td><td>50</td><td>List(ice)</td><td>580</td><td>150</td><td>300</td><td>150</td><td>300</td></tr><tr><td>382</td><td>kyogre</td><td>45</td><td>3520</td><td>100</td><td>100</td><td>90</td><td>150</td><td>140</td><td>90</td><td>List(water)</td><td>670</td><td>250</td><td>230</td><td>190</td><td>290</td></tr><tr><td>720</td><td>hoopa</td><td>5</td><td>90</td><td>80</td><td>110</td><td>60</td><td>150</td><td>130</td><td>70</td><td>List(psychic, ghost)</td><td>600</td><td>260</td><td>190</td><td>170</td><td>280</td></tr><tr><td>864</td><td>cursola</td><td>10</td><td>4</td><td>60</td><td>95</td><td>50</td><td>145</td><td>130</td><td>30</td><td>List(ghost)</td><td>510</td><td>240</td><td>180</td><td>145</td><td>275</td></tr><tr><td>987</td><td>flutter-mane</td><td>14</td><td>40</td><td>55</td><td>55</td><td>55</td><td>135</td><td>135</td><td>135</td><td>List(ghost, fairy)</td><td>570</td><td>190</td><td>190</td><td>110</td><td>270</td></tr><tr><td>643</td><td>reshiram</td><td>32</td><td>3300</td><td>100</td><td>120</td><td>100</td><td>150</td><td>120</td><td>90</td><td>List(dragon, fire)</td><td>680</td><td>270</td><td>220</td><td>220</td><td>270</td></tr><tr><td>484</td><td>palkia</td><td>42</td><td>3360</td><td>90</td><td>120</td><td>100</td><td>150</td><td>120</td><td>100</td><td>List(water, dragon)</td><td>680</td><td>270</td><td>220</td><td>220</td><td>270</td></tr><tr><td>671</td><td>florges</td><td>11</td><td>100</td><td>78</td><td>65</td><td>68</td><td>112</td><td>154</td><td>75</td><td>List(fairy)</td><td>552</td><td>177</td><td>222</td><td>133</td><td>266</td></tr><tr><td>250</td><td>ho-oh</td><td>38</td><td>1990</td><td>106</td><td>130</td><td>90</td><td>110</td><td>154</td><td>90</td><td>List(fire, flying)</td><td>680</td><td>240</td><td>244</td><td>220</td><td>264</td></tr><tr><td>706</td><td>goodra</td><td>20</td><td>1505</td><td>90</td><td>100</td><td>70</td><td>110</td><td>150</td><td>80</td><td>List(dragon)</td><td>600</td><td>210</td><td>220</td><td>170</td><td>260</td></tr></tbody></table></div>"
      ]
     },
     "metadata": {
      "application/vnd.databricks.v1+output": {
       "addedWidgets": {},
       "aggData": [],
       "aggError": "",
       "aggOverflow": false,
       "aggSchema": [],
       "aggSeriesLimitReached": false,
       "aggType": "",
       "arguments": {},
       "columnCustomDisplayInfos": {},
       "data": [
        [
         378,
         "regice",
         18,
         1750,
         80,
         50,
         100,
         100,
         200,
         50,
         [
          "ice"
         ],
         580,
         150,
         300,
         150,
         300
        ],
        [
         382,
         "kyogre",
         45,
         3520,
         100,
         100,
         90,
         150,
         140,
         90,
         [
          "water"
         ],
         670,
         250,
         230,
         190,
         290
        ],
        [
         720,
         "hoopa",
         5,
         90,
         80,
         110,
         60,
         150,
         130,
         70,
         [
          "psychic",
          "ghost"
         ],
         600,
         260,
         190,
         170,
         280
        ],
        [
         864,
         "cursola",
         10,
         4,
         60,
         95,
         50,
         145,
         130,
         30,
         [
          "ghost"
         ],
         510,
         240,
         180,
         145,
         275
        ],
        [
         987,
         "flutter-mane",
         14,
         40,
         55,
         55,
         55,
         135,
         135,
         135,
         [
          "ghost",
          "fairy"
         ],
         570,
         190,
         190,
         110,
         270
        ],
        [
         643,
         "reshiram",
         32,
         3300,
         100,
         120,
         100,
         150,
         120,
         90,
         [
          "dragon",
          "fire"
         ],
         680,
         270,
         220,
         220,
         270
        ],
        [
         484,
         "palkia",
         42,
         3360,
         90,
         120,
         100,
         150,
         120,
         100,
         [
          "water",
          "dragon"
         ],
         680,
         270,
         220,
         220,
         270
        ],
        [
         671,
         "florges",
         11,
         100,
         78,
         65,
         68,
         112,
         154,
         75,
         [
          "fairy"
         ],
         552,
         177,
         222,
         133,
         266
        ],
        [
         250,
         "ho-oh",
         38,
         1990,
         106,
         130,
         90,
         110,
         154,
         90,
         [
          "fire",
          "flying"
         ],
         680,
         240,
         244,
         220,
         264
        ],
        [
         706,
         "goodra",
         20,
         1505,
         90,
         100,
         70,
         110,
         150,
         80,
         [
          "dragon"
         ],
         600,
         210,
         220,
         170,
         260
        ]
       ],
       "datasetInfos": [],
       "dbfsResultPath": null,
       "isJsonSchema": true,
       "metadata": {},
       "overflow": false,
       "plotOptions": {
        "customPlotOptions": {},
        "displayType": "table",
        "pivotAggregation": null,
        "pivotColumns": null,
        "xColumns": null,
        "yColumns": null
       },
       "removedWidgets": [],
       "schema": [
        {
         "metadata": "{}",
         "name": "id",
         "type": "\"long\""
        },
        {
         "metadata": "{}",
         "name": "name",
         "type": "\"string\""
        },
        {
         "metadata": "{}",
         "name": "height",
         "type": "\"long\""
        },
        {
         "metadata": "{}",
         "name": "weight",
         "type": "\"long\""
        },
        {
         "metadata": "{}",
         "name": "hp",
         "type": "\"long\""
        },
        {
         "metadata": "{}",
         "name": "attack",
         "type": "\"long\""
        },
        {
         "metadata": "{}",
         "name": "defense",
         "type": "\"long\""
        },
        {
         "metadata": "{}",
         "name": "special-attack",
         "type": "\"long\""
        },
        {
         "metadata": "{}",
         "name": "special-defense",
         "type": "\"long\""
        },
        {
         "metadata": "{}",
         "name": "speed",
         "type": "\"long\""
        },
        {
         "metadata": "{}",
         "name": "types",
         "type": "{\"type\":\"array\",\"elementType\":\"string\",\"containsNull\":true}"
        },
        {
         "metadata": "{}",
         "name": "total_power",
         "type": "\"long\""
        },
        {
         "metadata": "{}",
         "name": "total_attack",
         "type": "\"long\""
        },
        {
         "metadata": "{}",
         "name": "total_defense",
         "type": "\"long\""
        },
        {
         "metadata": "{}",
         "name": "total_physic",
         "type": "\"long\""
        },
        {
         "metadata": "{}",
         "name": "total_special",
         "type": "\"long\""
        }
       ],
       "type": "table"
      }
     },
     "output_type": "display_data"
    }
   ],
   "source": [
    "# Trier les Pokémon par le spécial total décroissant et sélectionner les 10 premiers\n",
    "top_pokemon_total_special_df = df_clean.orderBy(df_clean.total_special.desc()).limit(10)\n",
    "display(top_pokemon_total_special_df)"
   ]
  },
  {
   "cell_type": "code",
   "execution_count": 0,
   "metadata": {
    "application/vnd.databricks.v1+cell": {
     "cellMetadata": {
      "byteLimit": 2048000,
      "rowLimit": 10000
     },
     "inputWidgets": {},
     "nuid": "f59d12b6-bd65-4042-994e-a3ba024e5f77",
     "showTitle": false,
     "title": ""
    }
   },
   "outputs": [
    {
     "output_type": "display_data",
     "data": {
      "image/png": "[encoded data removed]",
      "text/plain": [
       "<Figure size 1200x600 with 1 Axes>"
      ]
     },
     "metadata": {},
     "output_type": "display_data"
    }
   ],
   "source": [
    "# Convertir Spark DataFrame en Pandas\n",
    "top_pokemon_total_special_pd = top_pokemon_total_special_df.toPandas()\n",
    "\n",
    "# Bar chart des top 10 Pokémon par spécial\n",
    "plt.figure(figsize=(12, 6))\n",
    "plt.bar(top_pokemon_total_special_pd['name'], top_pokemon_total_special_pd['total_special'], color='skyblue')\n",
    "plt.title('Top 10 Pokémon par spécial')\n",
    "plt.xlabel('Pokémon')\n",
    "plt.ylabel('Spécial totale')\n",
    "plt.xticks(rotation=45)\n",
    "plt.show()"
   ]
  },
  {
   "cell_type": "code",
   "execution_count": 0,
   "metadata": {
    "application/vnd.databricks.v1+cell": {
     "cellMetadata": {
      "byteLimit": 2048000,
      "rowLimit": 10000
     },
     "inputWidgets": {},
     "nuid": "f200d3b6-0fbf-432b-acda-0245af59b7e1",
     "showTitle": false,
     "title": ""
    }
   },
   "outputs": [
    {
     "output_type": "display_data",
     "data": {
      "text/html": [
       "<style scoped>\n",
       "  .table-result-container {\n",
       "    max-height: 300px;\n",
       "    overflow: auto;\n",
       "  }\n",
       "  table, th, td {\n",
       "    border: 1px solid black;\n",
       "    border-collapse: collapse;\n",
       "  }\n",
       "  th, td {\n",
       "    padding: 5px;\n",
       "  }\n",
       "  th {\n",
       "    text-align: left;\n",
       "  }\n",
       "</style><div class='table-result-container'><table class='table-result'><thead style='background-color: white'><tr><th>id</th><th>name</th><th>height</th><th>weight</th><th>hp</th><th>attack</th><th>defense</th><th>special-attack</th><th>special-defense</th><th>speed</th><th>types</th><th>total_power</th><th>total_attack</th><th>total_defense</th><th>total_physic</th><th>total_special</th></tr></thead><tbody><tr><td>242</td><td>blissey</td><td>15</td><td>468</td><td>255</td><td>10</td><td>10</td><td>75</td><td>135</td><td>55</td><td>List(normal)</td><td>540</td><td>85</td><td>145</td><td>20</td><td>210</td></tr><tr><td>113</td><td>chansey</td><td>11</td><td>346</td><td>250</td><td>5</td><td>5</td><td>35</td><td>105</td><td>50</td><td>List(normal)</td><td>450</td><td>40</td><td>110</td><td>10</td><td>140</td></tr><tr><td>799</td><td>guzzlord</td><td>55</td><td>8880</td><td>223</td><td>101</td><td>53</td><td>97</td><td>53</td><td>43</td><td>List(dark, dragon)</td><td>570</td><td>198</td><td>106</td><td>154</td><td>150</td></tr><tr><td>895</td><td>regidrago</td><td>21</td><td>2000</td><td>200</td><td>100</td><td>50</td><td>100</td><td>50</td><td>80</td><td>List(dragon)</td><td>580</td><td>200</td><td>100</td><td>150</td><td>150</td></tr><tr><td>202</td><td>wobbuffet</td><td>13</td><td>285</td><td>190</td><td>33</td><td>58</td><td>33</td><td>58</td><td>33</td><td>List(psychic)</td><td>405</td><td>66</td><td>116</td><td>91</td><td>91</td></tr><tr><td>321</td><td>wailord</td><td>145</td><td>3980</td><td>170</td><td>90</td><td>45</td><td>90</td><td>45</td><td>60</td><td>List(water)</td><td>500</td><td>180</td><td>90</td><td>135</td><td>135</td></tr><tr><td>975</td><td>cetitan</td><td>45</td><td>7000</td><td>170</td><td>113</td><td>65</td><td>45</td><td>55</td><td>73</td><td>List(ice)</td><td>521</td><td>158</td><td>120</td><td>178</td><td>100</td></tr><tr><td>594</td><td>alomomola</td><td>12</td><td>316</td><td>165</td><td>75</td><td>80</td><td>40</td><td>45</td><td>65</td><td>List(water)</td><td>470</td><td>115</td><td>125</td><td>155</td><td>85</td></tr><tr><td>143</td><td>snorlax</td><td>21</td><td>4600</td><td>160</td><td>110</td><td>65</td><td>65</td><td>110</td><td>30</td><td>List(normal)</td><td>540</td><td>175</td><td>175</td><td>175</td><td>175</td></tr><tr><td>1003</td><td>ting-lu</td><td>27</td><td>6997</td><td>155</td><td>110</td><td>125</td><td>55</td><td>80</td><td>45</td><td>List(dark, ground)</td><td>570</td><td>165</td><td>205</td><td>235</td><td>135</td></tr></tbody></table></div>"
      ]
     },
     "metadata": {
      "application/vnd.databricks.v1+output": {
       "addedWidgets": {},
       "aggData": [],
       "aggError": "",
       "aggOverflow": false,
       "aggSchema": [],
       "aggSeriesLimitReached": false,
       "aggType": "",
       "arguments": {},
       "columnCustomDisplayInfos": {},
       "data": [
        [
         242,
         "blissey",
         15,
         468,
         255,
         10,
         10,
         75,
         135,
         55,
         [
          "normal"
         ],
         540,
         85,
         145,
         20,
         210
        ],
        [
         113,
         "chansey",
         11,
         346,
         250,
         5,
         5,
         35,
         105,
         50,
         [
          "normal"
         ],
         450,
         40,
         110,
         10,
         140
        ],
        [
         799,
         "guzzlord",
         55,
         8880,
         223,
         101,
         53,
         97,
         53,
         43,
         [
          "dark",
          "dragon"
         ],
         570,
         198,
         106,
         154,
         150
        ],
        [
         895,
         "regidrago",
         21,
         2000,
         200,
         100,
         50,
         100,
         50,
         80,
         [
          "dragon"
         ],
         580,
         200,
         100,
         150,
         150
        ],
        [
         202,
         "wobbuffet",
         13,
         285,
         190,
         33,
         58,
         33,
         58,
         33,
         [
          "psychic"
         ],
         405,
         66,
         116,
         91,
         91
        ],
        [
         321,
         "wailord",
         145,
         3980,
         170,
         90,
         45,
         90,
         45,
         60,
         [
          "water"
         ],
         500,
         180,
         90,
         135,
         135
        ],
        [
         975,
         "cetitan",
         45,
         7000,
         170,
         113,
         65,
         45,
         55,
         73,
         [
          "ice"
         ],
         521,
         158,
         120,
         178,
         100
        ],
        [
         594,
         "alomomola",
         12,
         316,
         165,
         75,
         80,
         40,
         45,
         65,
         [
          "water"
         ],
         470,
         115,
         125,
         155,
         85
        ],
        [
         143,
         "snorlax",
         21,
         4600,
         160,
         110,
         65,
         65,
         110,
         30,
         [
          "normal"
         ],
         540,
         175,
         175,
         175,
         175
        ],
        [
         1003,
         "ting-lu",
         27,
         6997,
         155,
         110,
         125,
         55,
         80,
         45,
         [
          "dark",
          "ground"
         ],
         570,
         165,
         205,
         235,
         135
        ]
       ],
       "datasetInfos": [],
       "dbfsResultPath": null,
       "isJsonSchema": true,
       "metadata": {},
       "overflow": false,
       "plotOptions": {
        "customPlotOptions": {},
        "displayType": "table",
        "pivotAggregation": null,
        "pivotColumns": null,
        "xColumns": null,
        "yColumns": null
       },
       "removedWidgets": [],
       "schema": [
        {
         "metadata": "{}",
         "name": "id",
         "type": "\"long\""
        },
        {
         "metadata": "{}",
         "name": "name",
         "type": "\"string\""
        },
        {
         "metadata": "{}",
         "name": "height",
         "type": "\"long\""
        },
        {
         "metadata": "{}",
         "name": "weight",
         "type": "\"long\""
        },
        {
         "metadata": "{}",
         "name": "hp",
         "type": "\"long\""
        },
        {
         "metadata": "{}",
         "name": "attack",
         "type": "\"long\""
        },
        {
         "metadata": "{}",
         "name": "defense",
         "type": "\"long\""
        },
        {
         "metadata": "{}",
         "name": "special-attack",
         "type": "\"long\""
        },
        {
         "metadata": "{}",
         "name": "special-defense",
         "type": "\"long\""
        },
        {
         "metadata": "{}",
         "name": "speed",
         "type": "\"long\""
        },
        {
         "metadata": "{}",
         "name": "types",
         "type": "{\"type\":\"array\",\"elementType\":\"string\",\"containsNull\":true}"
        },
        {
         "metadata": "{}",
         "name": "total_power",
         "type": "\"long\""
        },
        {
         "metadata": "{}",
         "name": "total_attack",
         "type": "\"long\""
        },
        {
         "metadata": "{}",
         "name": "total_defense",
         "type": "\"long\""
        },
        {
         "metadata": "{}",
         "name": "total_physic",
         "type": "\"long\""
        },
        {
         "metadata": "{}",
         "name": "total_special",
         "type": "\"long\""
        }
       ],
       "type": "table"
      }
     },
     "output_type": "display_data"
    }
   ],
   "source": [
    "# Trier les Pokémon par points de vie décroissant et sélectionner les 10 premiers\n",
    "top_pokemon_hp_df = df_clean.orderBy(df_clean.hp.desc()).limit(10)\n",
    "display(top_pokemon_hp_df)"
   ]
  },
  {
   "cell_type": "code",
   "execution_count": 0,
   "metadata": {
    "application/vnd.databricks.v1+cell": {
     "cellMetadata": {
      "byteLimit": 2048000,
      "rowLimit": 10000
     },
     "inputWidgets": {},
     "nuid": "cafb1dfb-2f3b-4c02-afe9-5605b02bd01f",
     "showTitle": false,
     "title": ""
    }
   },
   "outputs": [
    {
     "output_type": "display_data",
     "data": {
      "image/png": "[encoded data removed]",
      "text/plain": [
       "<Figure size 1200x600 with 1 Axes>"
      ]
     },
     "metadata": {},
     "output_type": "display_data"
    }
   ],
   "source": [
    "# Convertir Spark DataFrame en Pandas\n",
    "top_pokemon_hp_pd = top_pokemon_hp_df.toPandas()\n",
    "\n",
    "# Bar chart des top 10 Pokémon par points de vie\n",
    "plt.figure(figsize=(12, 6))\n",
    "plt.bar(top_pokemon_hp_pd['name'], top_pokemon_hp_pd['hp'], color='skyblue')\n",
    "plt.title('Top 10 Pokémon par points de vie')\n",
    "plt.xlabel('Pokémon')\n",
    "plt.ylabel('Points de vie')\n",
    "plt.xticks(rotation=45)\n",
    "plt.show()"
   ]
  },
  {
   "cell_type": "code",
   "execution_count": 0,
   "metadata": {
    "application/vnd.databricks.v1+cell": {
     "cellMetadata": {
      "byteLimit": 2048000,
      "rowLimit": 10000
     },
     "inputWidgets": {},
     "nuid": "d32072d4-108f-4909-adbc-4151c2723e63",
     "showTitle": false,
     "title": ""
    }
   },
   "outputs": [
    {
     "output_type": "display_data",
     "data": {
      "text/html": [
       "<style scoped>\n",
       "  .table-result-container {\n",
       "    max-height: 300px;\n",
       "    overflow: auto;\n",
       "  }\n",
       "  table, th, td {\n",
       "    border: 1px solid black;\n",
       "    border-collapse: collapse;\n",
       "  }\n",
       "  th, td {\n",
       "    padding: 5px;\n",
       "  }\n",
       "  th {\n",
       "    text-align: left;\n",
       "  }\n",
       "</style><div class='table-result-container'><table class='table-result'><thead style='background-color: white'><tr><th>id</th><th>name</th><th>height</th><th>weight</th><th>hp</th><th>attack</th><th>defense</th><th>special-attack</th><th>special-defense</th><th>speed</th><th>types</th><th>total_power</th><th>total_attack</th><th>total_defense</th><th>total_physic</th><th>total_special</th></tr></thead><tbody><tr><td>894</td><td>regieleki</td><td>12</td><td>1450</td><td>80</td><td>100</td><td>50</td><td>100</td><td>50</td><td>200</td><td>List(electric)</td><td>580</td><td>200</td><td>100</td><td>150</td><td>150</td></tr><tr><td>291</td><td>ninjask</td><td>8</td><td>120</td><td>61</td><td>90</td><td>45</td><td>50</td><td>50</td><td>160</td><td>List(bug, flying)</td><td>456</td><td>140</td><td>95</td><td>135</td><td>100</td></tr><tr><td>795</td><td>pheromosa</td><td>18</td><td>250</td><td>71</td><td>137</td><td>37</td><td>137</td><td>37</td><td>151</td><td>List(bug, fighting)</td><td>570</td><td>274</td><td>74</td><td>174</td><td>174</td></tr><tr><td>386</td><td>deoxys-normal</td><td>17</td><td>608</td><td>50</td><td>150</td><td>50</td><td>150</td><td>50</td><td>150</td><td>List(psychic)</td><td>600</td><td>300</td><td>100</td><td>200</td><td>200</td></tr><tr><td>101</td><td>electrode</td><td>12</td><td>666</td><td>60</td><td>50</td><td>70</td><td>80</td><td>80</td><td>150</td><td>List(electric)</td><td>490</td><td>130</td><td>150</td><td>120</td><td>160</td></tr><tr><td>617</td><td>accelgor</td><td>8</td><td>253</td><td>80</td><td>70</td><td>40</td><td>100</td><td>60</td><td>145</td><td>List(bug)</td><td>495</td><td>170</td><td>100</td><td>110</td><td>160</td></tr><tr><td>807</td><td>zeraora</td><td>15</td><td>445</td><td>88</td><td>112</td><td>75</td><td>102</td><td>80</td><td>143</td><td>List(electric)</td><td>600</td><td>214</td><td>155</td><td>187</td><td>182</td></tr><tr><td>887</td><td>dragapult</td><td>30</td><td>500</td><td>88</td><td>120</td><td>75</td><td>100</td><td>75</td><td>142</td><td>List(dragon, ghost)</td><td>600</td><td>220</td><td>150</td><td>195</td><td>175</td></tr><tr><td>888</td><td>zacian</td><td>28</td><td>1100</td><td>92</td><td>120</td><td>115</td><td>80</td><td>115</td><td>138</td><td>List(fairy)</td><td>660</td><td>200</td><td>230</td><td>235</td><td>195</td></tr><tr><td>889</td><td>zamazenta</td><td>29</td><td>2100</td><td>92</td><td>120</td><td>115</td><td>80</td><td>115</td><td>138</td><td>List(fighting)</td><td>660</td><td>200</td><td>230</td><td>235</td><td>195</td></tr></tbody></table></div>"
      ]
     },
     "metadata": {
      "application/vnd.databricks.v1+output": {
       "addedWidgets": {},
       "aggData": [],
       "aggError": "",
       "aggOverflow": false,
       "aggSchema": [],
       "aggSeriesLimitReached": false,
       "aggType": "",
       "arguments": {},
       "columnCustomDisplayInfos": {},
       "data": [
        [
         894,
         "regieleki",
         12,
         1450,
         80,
         100,
         50,
         100,
         50,
         200,
         [
          "electric"
         ],
         580,
         200,
         100,
         150,
         150
        ],
        [
         291,
         "ninjask",
         8,
         120,
         61,
         90,
         45,
         50,
         50,
         160,
         [
          "bug",
          "flying"
         ],
         456,
         140,
         95,
         135,
         100
        ],
        [
         795,
         "pheromosa",
         18,
         250,
         71,
         137,
         37,
         137,
         37,
         151,
         [
          "bug",
          "fighting"
         ],
         570,
         274,
         74,
         174,
         174
        ],
        [
         386,
         "deoxys-normal",
         17,
         608,
         50,
         150,
         50,
         150,
         50,
         150,
         [
          "psychic"
         ],
         600,
         300,
         100,
         200,
         200
        ],
        [
         101,
         "electrode",
         12,
         666,
         60,
         50,
         70,
         80,
         80,
         150,
         [
          "electric"
         ],
         490,
         130,
         150,
         120,
         160
        ],
        [
         617,
         "accelgor",
         8,
         253,
         80,
         70,
         40,
         100,
         60,
         145,
         [
          "bug"
         ],
         495,
         170,
         100,
         110,
         160
        ],
        [
         807,
         "zeraora",
         15,
         445,
         88,
         112,
         75,
         102,
         80,
         143,
         [
          "electric"
         ],
         600,
         214,
         155,
         187,
         182
        ],
        [
         887,
         "dragapult",
         30,
         500,
         88,
         120,
         75,
         100,
         75,
         142,
         [
          "dragon",
          "ghost"
         ],
         600,
         220,
         150,
         195,
         175
        ],
        [
         888,
         "zacian",
         28,
         1100,
         92,
         120,
         115,
         80,
         115,
         138,
         [
          "fairy"
         ],
         660,
         200,
         230,
         235,
         195
        ],
        [
         889,
         "zamazenta",
         29,
         2100,
         92,
         120,
         115,
         80,
         115,
         138,
         [
          "fighting"
         ],
         660,
         200,
         230,
         235,
         195
        ]
       ],
       "datasetInfos": [],
       "dbfsResultPath": null,
       "isJsonSchema": true,
       "metadata": {},
       "overflow": false,
       "plotOptions": {
        "customPlotOptions": {},
        "displayType": "table",
        "pivotAggregation": null,
        "pivotColumns": null,
        "xColumns": null,
        "yColumns": null
       },
       "removedWidgets": [],
       "schema": [
        {
         "metadata": "{}",
         "name": "id",
         "type": "\"long\""
        },
        {
         "metadata": "{}",
         "name": "name",
         "type": "\"string\""
        },
        {
         "metadata": "{}",
         "name": "height",
         "type": "\"long\""
        },
        {
         "metadata": "{}",
         "name": "weight",
         "type": "\"long\""
        },
        {
         "metadata": "{}",
         "name": "hp",
         "type": "\"long\""
        },
        {
         "metadata": "{}",
         "name": "attack",
         "type": "\"long\""
        },
        {
         "metadata": "{}",
         "name": "defense",
         "type": "\"long\""
        },
        {
         "metadata": "{}",
         "name": "special-attack",
         "type": "\"long\""
        },
        {
         "metadata": "{}",
         "name": "special-defense",
         "type": "\"long\""
        },
        {
         "metadata": "{}",
         "name": "speed",
         "type": "\"long\""
        },
        {
         "metadata": "{}",
         "name": "types",
         "type": "{\"type\":\"array\",\"elementType\":\"string\",\"containsNull\":true}"
        },
        {
         "metadata": "{}",
         "name": "total_power",
         "type": "\"long\""
        },
        {
         "metadata": "{}",
         "name": "total_attack",
         "type": "\"long\""
        },
        {
         "metadata": "{}",
         "name": "total_defense",
         "type": "\"long\""
        },
        {
         "metadata": "{}",
         "name": "total_physic",
         "type": "\"long\""
        },
        {
         "metadata": "{}",
         "name": "total_special",
         "type": "\"long\""
        }
       ],
       "type": "table"
      }
     },
     "output_type": "display_data"
    }
   ],
   "source": [
    "# Trier les Pokémon par vitesse décroissant et sélectionner les 10 premiers\n",
    "top_pokemon_speed_df = df_clean.orderBy(df_clean.speed.desc()).limit(10)\n",
    "display(top_pokemon_speed_df)"
   ]
  },
  {
   "cell_type": "code",
   "execution_count": 0,
   "metadata": {
    "application/vnd.databricks.v1+cell": {
     "cellMetadata": {
      "byteLimit": 2048000,
      "rowLimit": 10000
     },
     "inputWidgets": {},
     "nuid": "ce8944a5-e899-47f3-8ff9-8d563f182dee",
     "showTitle": false,
     "title": ""
    }
   },
   "outputs": [
    {
     "output_type": "display_data",
     "data": {
      "image/png": "[encoded data removed]",
      "text/plain": [
       "<Figure size 1200x600 with 1 Axes>"
      ]
     },
     "metadata": {},
     "output_type": "display_data"
    }
   ],
   "source": [
    "# Convertir Spark DataFrame en Pandas\n",
    "top_pokemon_speed_pd = top_pokemon_speed_df.toPandas()\n",
    "\n",
    "# Bar chart des top 10 Pokémon par vitesse\n",
    "plt.figure(figsize=(12, 6))\n",
    "plt.bar(top_pokemon_speed_pd['name'], top_pokemon_speed_pd['speed'], color='skyblue')\n",
    "plt.title('Top 10 Pokémon par vitesse')\n",
    "plt.xlabel('Pokémon')\n",
    "plt.ylabel('Vitesse')\n",
    "plt.xticks(rotation=45)\n",
    "plt.show()"
   ]
  },
  {
   "cell_type": "markdown",
   "metadata": {
    "application/vnd.databricks.v1+cell": {
     "cellMetadata": {},
     "inputWidgets": {},
     "nuid": "3b129774-dac3-4bcc-a1a5-839b724b945a",
     "showTitle": false,
     "title": ""
    }
   },
   "source": [
    "Création de cluster pour catégoriser les Pokemon en fonction de leurs statistiques"
   ]
  },
  {
   "cell_type": "code",
   "execution_count": 0,
   "metadata": {
    "application/vnd.databricks.v1+cell": {
     "cellMetadata": {
      "byteLimit": 2048000,
      "rowLimit": 10000
     },
     "inputWidgets": {},
     "nuid": "46a4efd4-bb43-43ec-8c35-ed80634fc91b",
     "showTitle": false,
     "title": ""
    }
   },
   "outputs": [
    {
     "output_type": "stream",
     "name": "stdout",
     "output_type": "stream",
     "text": [
      "DataFrame[summary: string, id: string, name: string, height: string, weight: string, hp: string, attack: string, defense: string, special-attack: string, special-defense: string, speed: string, total_power: string, total_attack: string, total_defense: string, total_physic: string, total_special: string]\n"
     ]
    }
   ],
   "source": [
    "# Vérification du type de chaque variable\n",
    "print(df_clean.describe())"
   ]
  },
  {
   "cell_type": "code",
   "execution_count": 0,
   "metadata": {
    "application/vnd.databricks.v1+cell": {
     "cellMetadata": {
      "byteLimit": 2048000,
      "rowLimit": 10000
     },
     "inputWidgets": {},
     "nuid": "afba68f5-d900-4998-a89f-cc569fd7a4ad",
     "showTitle": false,
     "title": ""
    }
   },
   "outputs": [
    {
     "output_type": "stream",
     "name": "stdout",
     "output_type": "stream",
     "text": [
      "root\n |-- id: long (nullable = true)\n |-- name: string (nullable = true)\n |-- height: long (nullable = true)\n |-- weight: long (nullable = true)\n |-- hp: double (nullable = true)\n |-- attack: double (nullable = true)\n |-- defense: double (nullable = true)\n |-- special-attack: double (nullable = true)\n |-- special-defense: double (nullable = true)\n |-- speed: double (nullable = true)\n |-- types: array (nullable = true)\n |    |-- element: string (containsNull = true)\n |-- total_power: long (nullable = true)\n |-- total_attack: double (nullable = true)\n |-- total_defense: double (nullable = true)\n |-- total_physic: double (nullable = true)\n |-- total_special: double (nullable = true)\n\n"
     ]
    }
   ],
   "source": [
    "# Liste des colonnes à convertir\n",
    "columns_to_convert = ['hp', 'attack', 'defense', 'special-attack', 'special-defense', 'speed', 'total_attack', 'total_defense', 'total_physic', 'total_special']\n",
    "\n",
    "# Conversion des colonnes en numérique\n",
    "for col_name in columns_to_convert:\n",
    "    df_clean = df_clean.withColumn(col_name, col(col_name).cast(DoubleType()))\n",
    "\n",
    "# Vérifie les types de données après conversion\n",
    "df_clean.printSchema()"
   ]
  },
  {
   "cell_type": "code",
   "execution_count": 0,
   "metadata": {
    "application/vnd.databricks.v1+cell": {
     "cellMetadata": {
      "byteLimit": 2048000,
      "rowLimit": 10000
     },
     "inputWidgets": {},
     "nuid": "02d30426-f8cf-4051-b3b0-468a002f7888",
     "showTitle": false,
     "title": ""
    }
   },
   "outputs": [
    {
     "output_type": "stream",
     "name": "stderr",
     "output_type": "stream",
     "text": [
      "/databricks/python/lib/python3.11/site-packages/sklearn/cluster/_kmeans.py:1412: FutureWarning: The default value of `n_init` will change from 10 to 'auto' in 1.4. Set the value of `n_init` explicitly to suppress the warning\n  super()._check_params_vs_input(X, default_n_init=10)\nException ignored on calling ctypes callback function: <function _ThreadpoolInfo._find_modules_with_dl_iterate_phdr.<locals>.match_module_callback at 0x7f5039a29440>\nTraceback (most recent call last):\n  File \"/databricks/python/lib/python3.11/site-packages/threadpoolctl.py\", line 400, in match_module_callback\n    self._make_module_from_path(filepath)\n  File \"/databricks/python/lib/python3.11/site-packages/threadpoolctl.py\", line 515, in _make_module_from_path\n    module = module_class(filepath, prefix, user_api, internal_api)\n             ^^^^^^^^^^^^^^^^^^^^^^^^^^^^^^^^^^^^^^^^^^^^^^^^^^^^^^\n  File \"/databricks/python/lib/python3.11/site-packages/threadpoolctl.py\", line 606, in __init__\n    self.version = self.get_version()\n                   ^^^^^^^^^^^^^^^^^^\n  File \"/databricks/python/lib/python3.11/site-packages/threadpoolctl.py\", line 646, in get_version\n    config = get_config().split()\n             ^^^^^^^^^^^^^^^^^^\nAttributeError: 'NoneType' object has no attribute 'split'\nException ignored on calling ctypes callback function: <function _ThreadpoolInfo._find_modules_with_dl_iterate_phdr.<locals>.match_module_callback at 0x7f5039a29440>\nTraceback (most recent call last):\n  File \"/databricks/python/lib/python3.11/site-packages/threadpoolctl.py\", line 400, in match_module_callback\n    self._make_module_from_path(filepath)\n  File \"/databricks/python/lib/python3.11/site-packages/threadpoolctl.py\", line 515, in _make_module_from_path\n    module = module_class(filepath, prefix, user_api, internal_api)\n             ^^^^^^^^^^^^^^^^^^^^^^^^^^^^^^^^^^^^^^^^^^^^^^^^^^^^^^\n  File \"/databricks/python/lib/python3.11/site-packages/threadpoolctl.py\", line 606, in __init__\n    self.version = self.get_version()\n                   ^^^^^^^^^^^^^^^^^^\n  File \"/databricks/python/lib/python3.11/site-packages/threadpoolctl.py\", line 646, in get_version\n    config = get_config().split()\n             ^^^^^^^^^^^^^^^^^^\nAttributeError: 'NoneType' object has no attribute 'split'\nException ignored on calling ctypes callback function: <function _ThreadpoolInfo._find_modules_with_dl_iterate_phdr.<locals>.match_module_callback at 0x7f5039a29440>\nTraceback (most recent call last):\n  File \"/databricks/python/lib/python3.11/site-packages/threadpoolctl.py\", line 400, in match_module_callback\n    self._make_module_from_path(filepath)\n  File \"/databricks/python/lib/python3.11/site-packages/threadpoolctl.py\", line 515, in _make_module_from_path\n    module = module_class(filepath, prefix, user_api, internal_api)\n             ^^^^^^^^^^^^^^^^^^^^^^^^^^^^^^^^^^^^^^^^^^^^^^^^^^^^^^\n  File \"/databricks/python/lib/python3.11/site-packages/threadpoolctl.py\", line 606, in __init__\n    self.version = self.get_version()\n                   ^^^^^^^^^^^^^^^^^^\n  File \"/databricks/python/lib/python3.11/site-packages/threadpoolctl.py\", line 646, in get_version\n    config = get_config().split()\n             ^^^^^^^^^^^^^^^^^^\nAttributeError: 'NoneType' object has no attribute 'split'\nException ignored on calling ctypes callback function: <function _ThreadpoolInfo._find_modules_with_dl_iterate_phdr.<locals>.match_module_callback at 0x7f5039a29440>\nTraceback (most recent call last):\n  File \"/databricks/python/lib/python3.11/site-packages/threadpoolctl.py\", line 400, in match_module_callback\n    self._make_module_from_path(filepath)\n  File \"/databricks/python/lib/python3.11/site-packages/threadpoolctl.py\", line 515, in _make_module_from_path\n    module = module_class(filepath, prefix, user_api, internal_api)\n             ^^^^^^^^^^^^^^^^^^^^^^^^^^^^^^^^^^^^^^^^^^^^^^^^^^^^^^\n  File \"/databricks/python/lib/python3.11/site-packages/threadpoolctl.py\", line 606, in __init__\n    self.version = self.get_version()\n                   ^^^^^^^^^^^^^^^^^^\n  File \"/databricks/python/lib/python3.11/site-packages/threadpoolctl.py\", line 646, in get_version\n    config = get_config().split()\n             ^^^^^^^^^^^^^^^^^^\nAttributeError: 'NoneType' object has no attribute 'split'\nException ignored on calling ctypes callback function: <function _ThreadpoolInfo._find_modules_with_dl_iterate_phdr.<locals>.match_module_callback at 0x7f5039a29440>\nTraceback (most recent call last):\n  File \"/databricks/python/lib/python3.11/site-packages/threadpoolctl.py\", line 400, in match_module_callback\n    self._make_module_from_path(filepath)\n  File \"/databricks/python/lib/python3.11/site-packages/threadpoolctl.py\", line 515, in _make_module_from_path\n    module = module_class(filepath, prefix, user_api, internal_api)\n             ^^^^^^^^^^^^^^^^^^^^^^^^^^^^^^^^^^^^^^^^^^^^^^^^^^^^^^\n  File \"/databricks/python/lib/python3.11/site-packages/threadpoolctl.py\", line 606, in __init__\n    self.version = self.get_version()\n                   ^^^^^^^^^^^^^^^^^^\n  File \"/databricks/python/lib/python3.11/site-packages/threadpoolctl.py\", line 646, in get_version\n    config = get_config().split()\n             ^^^^^^^^^^^^^^^^^^\nAttributeError: 'NoneType' object has no attribute 'split'\nException ignored on calling ctypes callback function: <function _ThreadpoolInfo._find_modules_with_dl_iterate_phdr.<locals>.match_module_callback at 0x7f5039a29440>\nTraceback (most recent call last):\n  File \"/databricks/python/lib/python3.11/site-packages/threadpoolctl.py\", line 400, in match_module_callback\n    self._make_module_from_path(filepath)\n  File \"/databricks/python/lib/python3.11/site-packages/threadpoolctl.py\", line 515, in _make_module_from_path\n    module = module_class(filepath, prefix, user_api, internal_api)\n             ^^^^^^^^^^^^^^^^^^^^^^^^^^^^^^^^^^^^^^^^^^^^^^^^^^^^^^\n  File \"/databricks/python/lib/python3.11/site-packages/threadpoolctl.py\", line 606, in __init__\n    self.version = self.get_version()\n                   ^^^^^^^^^^^^^^^^^^\n  File \"/databricks/python/lib/python3.11/site-packages/threadpoolctl.py\", line 646, in get_version\n    config = get_config().split()\n             ^^^^^^^^^^^^^^^^^^\nAttributeError: 'NoneType' object has no attribute 'split'\nException ignored on calling ctypes callback function: <function _ThreadpoolInfo._find_modules_with_dl_iterate_phdr.<locals>.match_module_callback at 0x7f5039a29440>\nTraceback (most recent call last):\n  File \"/databricks/python/lib/python3.11/site-packages/threadpoolctl.py\", line 400, in match_module_callback\n    self._make_module_from_path(filepath)\n  File \"/databricks/python/lib/python3.11/site-packages/threadpoolctl.py\", line 515, in _make_module_from_path\n    module = module_class(filepath, prefix, user_api, internal_api)\n             ^^^^^^^^^^^^^^^^^^^^^^^^^^^^^^^^^^^^^^^^^^^^^^^^^^^^^^\n  File \"/databricks/python/lib/python3.11/site-packages/threadpoolctl.py\", line 606, in __init__\n    self.version = self.get_version()\n                   ^^^^^^^^^^^^^^^^^^\n  File \"/databricks/python/lib/python3.11/site-packages/threadpoolctl.py\", line 646, in get_version\n    config = get_config().split()\n             ^^^^^^^^^^^^^^^^^^\nAttributeError: 'NoneType' object has no attribute 'split'\nException ignored on calling ctypes callback function: <function _ThreadpoolInfo._find_modules_with_dl_iterate_phdr.<locals>.match_module_callback at 0x7f5039a29440>\nTraceback (most recent call last):\n  File \"/databricks/python/lib/python3.11/site-packages/threadpoolctl.py\", line 400, in match_module_callback\n    self._make_module_from_path(filepath)\n  File \"/databricks/python/lib/python3.11/site-packages/threadpoolctl.py\", line 515, in _make_module_from_path\n    module = module_class(filepath, prefix, user_api, internal_api)\n             ^^^^^^^^^^^^^^^^^^^^^^^^^^^^^^^^^^^^^^^^^^^^^^^^^^^^^^\n  File \"/databricks/python/lib/python3.11/site-packages/threadpoolctl.py\", line 606, in __init__\n    self.version = self.get_version()\n                   ^^^^^^^^^^^^^^^^^^\n  File \"/databricks/python/lib/python3.11/site-packages/threadpoolctl.py\", line 646, in get_version\n    config = get_config().split()\n             ^^^^^^^^^^^^^^^^^^\nAttributeError: 'NoneType' object has no attribute 'split'\nException ignored on calling ctypes callback function: <function _ThreadpoolInfo._find_modules_with_dl_iterate_phdr.<locals>.match_module_callback at 0x7f5039a29440>\nTraceback (most recent call last):\n  File \"/databricks/python/lib/python3.11/site-packages/threadpoolctl.py\", line 400, in match_module_callback\n    self._make_module_from_path(filepath)\n  File \"/databricks/python/lib/python3.11/site-packages/threadpoolctl.py\", line 515, in _make_module_from_path\n    module = module_class(filepath, prefix, user_api, internal_api)\n             ^^^^^^^^^^^^^^^^^^^^^^^^^^^^^^^^^^^^^^^^^^^^^^^^^^^^^^\n  File \"/databricks/python/lib/python3.11/site-packages/threadpoolctl.py\", line 606, in __init__\n    self.version = self.get_version()\n                   ^^^^^^^^^^^^^^^^^^\n  File \"/databricks/python/lib/python3.11/site-packages/threadpoolctl.py\", line 646, in get_version\n    config = get_config().split()\n             ^^^^^^^^^^^^^^^^^^\nAttributeError: 'NoneType' object has no attribute 'split'\nException ignored on calling ctypes callback function: <function _ThreadpoolInfo._find_modules_with_dl_iterate_phdr.<locals>.match_module_callback at 0x7f5039a29440>\nTraceback (most recent call last):\n  File \"/databricks/python/lib/python3.11/site-packages/threadpoolctl.py\", line 400, in match_module_callback\n    self._make_module_from_path(filepath)\n  File \"/databricks/python/lib/python3.11/site-packages/threadpoolctl.py\", line 515, in _make_module_from_path\n    module = module_class(filepath, prefix, user_api, internal_api)\n             ^^^^^^^^^^^^^^^^^^^^^^^^^^^^^^^^^^^^^^^^^^^^^^^^^^^^^^\n  File \"/databricks/python/lib/python3.11/site-packages/threadpoolctl.py\", line 606, in __init__\n    self.version = self.get_version()\n                   ^^^^^^^^^^^^^^^^^^\n  File \"/databricks/python/lib/python3.11/site-packages/threadpoolctl.py\", line 646, in get_version\n    config = get_config().split()\n             ^^^^^^^^^^^^^^^^^^\nAttributeError: 'NoneType' object has no attribute 'split'\n"
     ]
    },
    {
     "output_type": "display_data",
     "data": {
      "image/png": "[encoded data removed]",
      "text/plain": [
       "<Figure size 640x480 with 1 Axes>"
      ]
     },
     "metadata": {},
     "output_type": "display_data"
    }
   ],
   "source": [
    "# Convertir le DataFrame PySpark en DataFrame pandas\n",
    "df_clean_pandas = df_clean.toPandas()\n",
    "\n",
    "# Sélectionner les variables pertinentes pour le clustering\n",
    "features = df_clean_pandas[['hp', 'attack', 'defense', 'special-attack', 'special-defense', 'speed', 'total_attack', 'total_defense', 'total_physic', 'total_special']]\n",
    "\n",
    "# Appliquer l'algorithme des KMeans avec 3 clusters\n",
    "kmeans = KMeans(n_clusters=3, random_state=42)\n",
    "df_clean_pandas['cluster'] = kmeans.fit_predict(features)\n",
    "\n",
    "# Visualiser les clusters sur un graphique 2D (attaque vs défense par exemple)\n",
    "plt.scatter(df_clean_pandas['total_physic'], df_clean_pandas['total_special'], c=df_clean_pandas['cluster'])\n",
    "plt.xlabel('Total Physique')\n",
    "plt.ylabel('Total Spécial')\n",
    "plt.title('Clusters des Pokémon')\n",
    "plt.show()"
   ]
  }
 ],
 "metadata": {
  "application/vnd.databricks.v1+notebook": {
   "dashboards": [],
   "environmentMetadata": {
    "base_environment": "",
    "client": "1"
   },
   "language": "python",
   "notebookMetadata": {
    "pythonIndentUnit": 4
   },
   "notebookName": "Pokemon_Ranking",
   "widgets": {}
  }
 },
 "nbformat": 4,
 "nbformat_minor": 0
}
